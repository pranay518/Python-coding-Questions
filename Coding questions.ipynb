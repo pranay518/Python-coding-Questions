{
 "cells": [
  {
   "cell_type": "markdown",
   "id": "434d79ce-1e71-4181-ac97-4f92350ad0e8",
   "metadata": {},
   "source": [
    
   ]
  },
  {
   "cell_type": "markdown",
   "id": "30dfffe4",
   "metadata": {},
   "source": [
    "# 1)  Write the output for the below Hello, Python commands."
   ]
  },
  {
   "cell_type": "code",
   "execution_count": 2,
   "id": "7cc556d8",
   "metadata": {},
   "outputs": [
    {
     "name": "stdout",
     "output_type": "stream",
     "text": [
      "Hello, Python!\n"
     ]
    }
   ],
   "source": [
    "print(\"Hello, Python!\")"
   ]
  },
  {
   "cell_type": "markdown",
   "id": "cbfa2001",
   "metadata": {},
   "source": [
    "Explanation: In Python programming, a string can be enclosed inside single quotes, double quotes, or triple quotes"
   ]
  },
  {
   "cell_type": "markdown",
   "id": "90224cc9",
   "metadata": {},
   "source": [
    "# 2)  add two numbers program"
   ]
  },
  {
   "cell_type": "code",
   "execution_count": 59,
   "id": "cd2c6655",
   "metadata": {},
   "outputs": [
    {
     "name": "stdin",
     "output_type": "stream",
     "text": [
      "Enter first number:  20\n",
      "Enter second number:  30\n"
     ]
    },
    {
     "name": "stdout",
     "output_type": "stream",
     "text": [
      "The sum of the numbers is 50.0\n"
     ]
    }
   ],
   "source": [
    "num1 = input('Enter first number: ')  \n",
    "num2 = input('Enter second number: ')  \n",
    "sum = float(num1) + float(num2)  \n",
    "print('The sum of the numbers is {}' .format(sum))"
   ]
  },
  {
   "cell_type": "markdown",
   "id": "757a9d70",
   "metadata": {},
   "source": [
    "# 3) Write a Python program to illustrate arithmetic operations (+,-,*,/)"
   ]
  },
  {
   "cell_type": "code",
   "execution_count": 7,
   "id": "f36094d4",
   "metadata": {},
   "outputs": [
    {
     "name": "stdout",
     "output_type": "stream",
     "text": [
      "Enter first number: 50\n",
      "Enter second number: 20\n",
      "The sum of 50 and 20 is 70.0\n",
      "The subtration of 50 and 20 is 30.0\n",
      "The multiplication of 50 and 20 is 1000.0\n",
      "The division of 50 and 20 is 2.5\n"
     ]
    }
   ],
   "source": [
    "num1 = input('Enter first number: ')  \n",
    "num2 = input('Enter second number: ') \n",
    "sum = float(num1) + float(num2)\n",
    "sub = float(num1) - float(num2)\n",
    "mul = float(num1) * float(num2)\n",
    "div =  float(num1)/float(num2)\n",
    "print('The sum of {0} and {1} is {2}'.format(num1, num2, sum))\n",
    "print('The subtration of {0} and {1} is {2}'.format(num1, num2, sub))\n",
    "print('The multiplication of {0} and {1} is {2}'.format(num1, num2, mul))  \n",
    "print('The division of {0} and {1} is {2}'.format(num1, num2, div))"
   ]
  },
  {
   "cell_type": "markdown",
   "id": "5de2c707",
   "metadata": {},
   "source": [
    "# 4) Python Program to Check if a Number is Odd or Even."
   ]
  },
  {
   "cell_type": "code",
   "execution_count": 1,
   "id": "e82c1ed8",
   "metadata": {},
   "outputs": [
    {
     "name": "stdout",
     "output_type": "stream",
     "text": [
      "Enter first number: 25.5\n",
      "Please enter valid number. 25.5  is not integer\n"
     ]
    }
   ],
   "source": [
    "num1 = input('Enter first number: ')  \n",
    "try:\n",
    "    if(int(num1)% 2 == 0):\n",
    "        print(\"number is even\")\n",
    "    else:\n",
    "        print(\"number is odd\")\n",
    "except:\n",
    "    print(\"Please enter valid number.\" + \" \" + num1 + \"  \" + \"is not integer\")"
   ]
  },
  {
   "cell_type": "markdown",
   "id": "42bf29b8",
   "metadata": {},
   "source": [
    "# 5) Write a Python program to find the maximum of two numbers?"
   ]
  },
  {
   "cell_type": "code",
   "execution_count": 2,
   "id": "38e475dc",
   "metadata": {},
   "outputs": [
    {
     "name": "stdout",
     "output_type": "stream",
     "text": [
      "Enter First number:28.8\n",
      "Enter Second number:32.5\n",
      "Second number is greatest 32.5\n"
     ]
    }
   ],
   "source": [
    "num1 = input('Enter First number:')\n",
    "num2 = input('Enter Second number:')\n",
    "if(num1>num2):\n",
    "    print('First number is greatest {0}'.format(num1))\n",
    "else:\n",
    "    print('Second number is greatest {0}'.format(num2))"
   ]
  },
  {
   "cell_type": "markdown",
   "id": "5697306b",
   "metadata": {},
   "source": [
    "# 6) Write a Python program to check prime numbers."
   ]
  },
  {
   "cell_type": "code",
   "execution_count": 5,
   "id": "2fadf1ba",
   "metadata": {
    "tags": []
   },
   "outputs": [
    {
     "name": "stdin",
     "output_type": "stream",
     "text": [
      "Enter First number: 1\n"
     ]
    },
    {
     "name": "stdout",
     "output_type": "stream",
     "text": [
      "The number  1 is not a prime number\n"
     ]
    }
   ],
   "source": [
    "def PrimeChecking(num1):\n",
    "    \n",
    "    if num1 > 1:\n",
    "        for i in range(2 , int(num1/2) + 1):\n",
    "            if(num1 % i) == 0:\n",
    "                print(\"The number \",num1, \"is not a prime number\")\n",
    "                break\n",
    "        else:\n",
    "            print(\"The number \",num1, \"is a prime number\")\n",
    "                \n",
    "    else:  \n",
    "        print(\"The number \",num1, \"is not a prime number\")  \n",
    "                \n",
    "\n",
    "num1 = int(input('Enter First number:'))\n",
    "PrimeChecking(num1) "
   ]
  },
  {
   "cell_type": "markdown",
   "id": "7708ed73",
   "metadata": {},
   "source": [
    "# 7) Write a Python factorial program without using if-else, for, and ternary operators."
   ]
  },
  {
   "cell_type": "code",
   "execution_count": 72,
   "id": "10b4952b",
   "metadata": {},
   "outputs": [
    {
     "name": "stdout",
     "output_type": "stream",
     "text": [
      "please enter number for factorial :5\n",
      "factorial of number is 120  \n"
     ]
    }
   ],
   "source": [
    "import math\n",
    "def factorial(num):\n",
    "    return(math.factorial(num))\n",
    "\n",
    "num = int(input('please enter number for factorial :'))\n",
    "\n",
    "print('factorial of number is {0}  '.format(factorial(num)))"
   ]
  },
  {
   "cell_type": "code",
   "execution_count": 73,
   "id": "fca38c88",
   "metadata": {},
   "outputs": [
    {
     "name": "stdout",
     "output_type": "stream",
     "text": [
      "Enter the number for factorial:5\n",
      "factorial of 5 is 120\n"
     ]
    }
   ],
   "source": [
    "def factorial(x):\n",
    "    \"\"\"This is a recursive function\n",
    "    to find the factorial of an integer\"\"\"\n",
    "\n",
    "    if x == 1:\n",
    "        return 1\n",
    "    else:\n",
    "        # recursive call to the function\n",
    "        return (x * factorial(x-1))\n",
    "    \n",
    "        \n",
    "num = int(input('Enter the number for factorial:'))\n",
    "result = factorial(num)  \n",
    "print('factorial of {0} is {1}'.format(num,result))"
   ]
  },
  {
   "cell_type": "markdown",
   "id": "e1c192f0",
   "metadata": {},
   "source": [
    "# 8) Write a Python program to calculate the square root of a given number."
   ]
  },
  {
   "cell_type": "code",
   "execution_count": 77,
   "id": "eafc51c5",
   "metadata": {},
   "outputs": [
    {
     "name": "stdout",
     "output_type": "stream",
     "text": [
      "Enter the number for square root:2\n",
      "square root of number2 is 1.4142135623730951\n"
     ]
    }
   ],
   "source": [
    "num = int(input('Enter the number for square root:'))\n",
    "sq_root = math.sqrt(num)\n",
    "print(\"square root of number{0} is {1}\".format(num,sq_root))"
   ]
  },
  {
   "cell_type": "markdown",
   "id": "eadb8fb5",
   "metadata": {},
   "source": [
    "# 9) Write a Python program to calculate the area of a triangle."
   ]
  },
  {
   "cell_type": "code",
   "execution_count": 78,
   "id": "dfbbd2e3",
   "metadata": {},
   "outputs": [
    {
     "name": "stdout",
     "output_type": "stream",
     "text": [
      "Enter the first side value of triangle:2\n",
      "Enter the second side value of triangle:3\n",
      "Enter the third side value of triangle:4\n",
      "Area of triangle 4.21875\n"
     ]
    }
   ],
   "source": [
    "s1 = int(input('Enter the first side value of triangle:'))\n",
    "s2 = int(input('Enter the second side value of triangle:'))\n",
    "s3 = int(input('Enter the third side value of triangle:'))\n",
    "sp = (s1 + s2 + s3) / 2\n",
    "area = (sp*(sp-s1)*(sp-s2)*(sp-s3)*0.5)\n",
    "print('Area of triangle {0}'.format(area))"
   ]
  },
  {
   "cell_type": "code",
   "execution_count": 1,
   "id": "6c619933-a077-4383-8a91-5e2f1277619f",
   "metadata": {},
   "outputs": [
    {
     "name": "stdin",
     "output_type": "stream",
     "text": [
      "Please Enter an Integer:  25.5\n"
     ]
    },
    {
     "name": "stdout",
     "output_type": "stream",
     "text": [
      " The Integer You entered is not valid! Please try again…\n"
     ]
    },
    {
     "name": "stdin",
     "output_type": "stream",
     "text": [
      "Please Enter an Integer:  22.0\n"
     ]
    },
    {
     "name": "stdout",
     "output_type": "stream",
     "text": [
      " The Integer You entered is not valid! Please try again…\n"
     ]
    },
    {
     "name": "stdin",
     "output_type": "stream",
     "text": [
      "Please Enter an Integer:  22\n"
     ]
    },
    {
     "name": "stdout",
     "output_type": "stream",
     "text": [
      "You successfully entered an Integer!\n"
     ]
    }
   ],
   "source": [
    "# The loops keeps executing until the value entered is an integer\n",
    "while True:\n",
    "    try: \n",
    "        n = int(input(\"Please Enter an Integer: \"))\n",
    "        break\n",
    "    except ValueError:\n",
    "        print(\" The Integer You entered is not valid! Please try again…\")\n",
    "print(\"You successfully entered an Integer!\")"
   ]
  },
  {
   "cell_type": "code",
   "execution_count": 2,
   "id": "5bf2dbfe-6ec7-4af2-a474-eb1429ad2a6d",
   "metadata": {},
   "outputs": [
    {
     "name": "stdout",
     "output_type": "stream",
     "text": [
      "The element from the array present in index 0 is Jan\n",
      "The element from the array present in index 1 is Feb\n",
      "The element from the array present in index 2 is Mar\n",
      "The element from the array present in index 3 is Apr\n",
      "Index out of range\n"
     ]
    }
   ],
   "source": [
    "array = [\"Jan\", \"Feb\", \"Mar\", \"Apr\"]\n",
    "for i in range(5):\n",
    "    try:\n",
    "        print(\"The element from the array present in index\", i,\"is\", array[i])\n",
    "    except:\n",
    "        print (\"Index out of range\")"
   ]
  },
  {
   "cell_type": "code",
   "execution_count": 2,
   "id": "291a405d-519f-4b85-a3ac-62a6df69f8a0",
   "metadata": {},
   "outputs": [
    {
     "name": "stdout",
     "output_type": "stream",
     "text": [
      "division by zero\n"
     ]
    }
   ],
   "source": [
    "a, b=5, 0\n",
    "try:\n",
    "    if b != 0:\n",
    "        print (a/b)\n",
    "    else:\n",
    "        a/b\n",
    "        raise ZeroDivisionError\n",
    "except Exception as e:\n",
    "       print (e)"
   ]
  },
  {
   "cell_type": "code",
   "execution_count": 11,
   "id": "90eb47e9-b424-4671-aa6f-af7a1cde60a4",
   "metadata": {},
   "outputs": [],
   "source": [
    "# # How to handle Python exception in Threads?\n",
    "# import sys\n",
    "# import threading\n",
    "# import time\n",
    "# import Queue\n",
    "# def thread(args1, stop_event, queue_obj):\n",
    "#     print (\"start thread\")\n",
    "#     stop_event.wait(12)\n",
    "    \n",
    "# if not stop_event.is_set():\n",
    "#     try:\n",
    "#         raise Exception(\"boom!\")\n",
    "#     except Exception:\n",
    "#         queue_obj.put(sys.exc_info())\n",
    "#     pass\n",
    "# try:\n",
    "#     queue_obj = Queue.Queue()\n",
    "#     t_stop = threading.Event()\n",
    "#     t = threading.Thread(target=thread, args=(1, t_stop, queue_obj))\n",
    "#     t.start()\n",
    "#     time.sleep(15)\n",
    "#     print (\"stop thread!\")\n",
    "#     t_stop.set()\n",
    "# try:\n",
    "#     exc = queue_obj.get(block=False)\n",
    "# except Queue.Empty:\n",
    "#     pass\n",
    "# else:\n",
    "#     exc_type, exc_obj, exc_trace = exc\n",
    "#     print (exc_obj)\n",
    "# except Exception as e:\n",
    "# print (\"It took too long\")"
   ]
  },
  {
   "cell_type": "markdown",
   "id": "4587ab09",
   "metadata": {},
   "source": [
    "# 10) Write a Python program to check Armstrong’s number."
   ]
  },
  {
   "cell_type": "code",
   "execution_count": null,
   "id": "f848216d-f658-4cf9-ac9e-1425a7fc1fa7",
   "metadata": {},
   "outputs": [],
   "source": [
    "#  one whose sum of digits raised to the power three equals the number itself. 371, for example, is an Armstrong number because 3**3 + 7**3 + 1**3 = 371."
   ]
  },
  {
   "cell_type": "code",
   "execution_count": 7,
   "id": "a0515aca",
   "metadata": {},
   "outputs": [
    {
     "name": "stdin",
     "output_type": "stream",
     "text": [
      "Enter first number:  371\n"
     ]
    },
    {
     "name": "stdout",
     "output_type": "stream",
     "text": [
      "order of number is 3\n",
      "Number is Armstrong\n"
     ]
    }
   ],
   "source": [
    "num = int(input('Enter first number: '))\n",
    "order = len(str(num))\n",
    "print(\"order of number is {}\".format(order))\n",
    "sum =0\n",
    "temp = num\n",
    "while(temp>0):\n",
    "    digit = temp % 10\n",
    "    sum += digit ** order\n",
    "    temp //=10\n",
    "    \n",
    "if(num == sum):\n",
    "    print(\"Number is Armstrong\")\n",
    "    \n",
    "else:\n",
    "    print(\"No\")\n",
    "    "
   ]
  },
  {
   "cell_type": "markdown",
   "id": "3e6e0245-b65f-4331-81b3-067bc9e2bc0f",
   "metadata": {},
   "source": [
    "![](DATA_STRUCTURE.png)"
   ]
  },
  {
   "cell_type": "markdown",
   "id": "2a15dd78-81c4-415b-abf0-d456c891c9e4",
   "metadata": {},
   "source": [
    "# Array"
   ]
  },
  {
   "cell_type": "markdown",
   "id": "ce5ef45d-0eb4-41b0-a0d4-223c76f540de",
   "metadata": {},
   "source": [
    "Array is a container which can hold a fix number of items and these items should be of the same type. Most of the data structures make use of arrays to implement their algorithms."
   ]
  },
  {
   "cell_type": "code",
   "execution_count": 10,
   "id": "8b2277a4-1937-42fe-afd7-8ecd44361a7b",
   "metadata": {},
   "outputs": [
    {
     "name": "stdout",
     "output_type": "stream",
     "text": [
      "10\n",
      "20\n",
      "30\n",
      "40\n",
      "50\n",
      "1st element is: 10\n",
      "2nd element is: 30\n",
      "Element after inserted element 10\n",
      "Element after inserted element 60\n",
      "Element after inserted element 20\n",
      "Element after inserted element 30\n",
      "Element after inserted element 40\n",
      "Element after inserted element 50\n"
     ]
    }
   ],
   "source": [
    "from array import *\n",
    "\n",
    "array1 = array('i', [10,20,30,40,50])\n",
    "\n",
    "for x in array1:\n",
    "    print(x)\n",
    "\n",
    "#Accessing element\n",
    "array1 = array('i', [10,20,30,40,50])\n",
    "print (\"1st element is:\",array1[0])\n",
    "print (\"2nd element is:\",array1[2])\n",
    "#insert\n",
    "array1.insert(1,60)\n",
    "for x in array1:\n",
    "    print(\"Element after inserted element\",x)"
   ]
  },
  {
   "cell_type": "markdown",
   "id": "facee4c6-8666-4b22-9c42-4d567346dc6e",
   "metadata": {},
   "source": [
    "# LIST"
   ]
  },
  {
   "cell_type": "markdown",
   "id": "75807b2c-51e3-4cc1-8402-61d222a2de95",
   "metadata": {},
   "source": [
    "The list is a most versatile datatype available in Python which can be written as a list of comma-separated values (items) between square brackets. Important thing about a list is that items in a list need not be of the same type."
   ]
  },
  {
   "cell_type": "code",
   "execution_count": 11,
   "id": "b0b2ab53-c9fb-4aa0-96bd-48695536902e",
   "metadata": {},
   "outputs": [
    {
     "name": "stdout",
     "output_type": "stream",
     "text": [
      "list1[0]:  physics\n",
      "list2[1:5]:  [2, 3, 4, 5]\n"
     ]
    }
   ],
   "source": [
    "list1 = ['physics', 'chemistry', 1997, 2000]\n",
    "list2 = [1, 2, 3, 4, 5, 6, 7 ]\n",
    "print (\"list1[0]: \", list1[0])\n",
    "print (\"list2[1:5]: \", list2[1:5])"
   ]
  },
  {
   "cell_type": "code",
   "execution_count": 12,
   "id": "6f3500b6-6e0b-4429-bfe6-79e6be5d7fbd",
   "metadata": {},
   "outputs": [
    {
     "name": "stdout",
     "output_type": "stream",
     "text": [
      "['physics', 'chemistry', 1997, 2000]\n",
      "After deleting value at index 2 : \n",
      "['physics', 'chemistry', 2000]\n"
     ]
    }
   ],
   "source": [
    "list1 = ['physics', 'chemistry', 1997, 2000]\n",
    "print (list1)\n",
    "del list1[2]\n",
    "print (\"After deleting value at index 2 : \")\n",
    "print (list1)"
   ]
  },
  {
   "cell_type": "markdown",
   "id": "65a841b4-3e52-457d-a72a-1613e32d961c",
   "metadata": {},
   "source": [
    "# Tuples"
   ]
  },
  {
   "cell_type": "markdown",
   "id": "9942215a-ca28-43c9-bde0-85d74dbde8c8",
   "metadata": {},
   "source": [
    "A tuple is a sequence of immutable Python objects. Tuples are sequences, just like lists. The differences between tuples and lists are, the tuples cannot be changed unlike lists and tuples use parentheses, whereas lists use square brackets."
   ]
  },
  {
   "cell_type": "code",
   "execution_count": 13,
   "id": "0e8ae473-bea9-477a-ab77-a6d736978e93",
   "metadata": {},
   "outputs": [
    {
     "name": "stdout",
     "output_type": "stream",
     "text": [
      "tup1[0]:  physics\n",
      "tup2[1:5]:  (2, 3, 4, 5)\n"
     ]
    }
   ],
   "source": [
    "tup1 = ('physics', 'chemistry', 1997, 2000);\n",
    "tup2 = (1, 2, 3, 4, 5, 6, 7 );\n",
    "print (\"tup1[0]: \", tup1[0])\n",
    "print (\"tup2[1:5]: \", tup2[1:5])"
   ]
  },
  {
   "cell_type": "code",
   "execution_count": 8,
   "id": "2c83e7f2-ca14-4686-b2bb-66b91f7c97d8",
   "metadata": {},
   "outputs": [
    {
     "name": "stdout",
     "output_type": "stream",
     "text": [
      "The original list is : [(5, 6, 7), (7, 2, 4, 6), (6, 6, 7), (6, 10, 8)]\n",
      "The Tuple List after removal of element : [(5, 7), (7, 2, 4), (7,), (10, 8)]\n"
     ]
    }
   ],
   "source": [
    "# initialize list\n",
    "test_list = [(5, 6, 7), (7, 2, 4, 6), (6, 6, 7), (6, 10, 8)]\n",
    " \n",
    "# printing original list\n",
    "print(\"The original list is : \" + str(test_list))\n",
    " \n",
    "# declaring remove element\n",
    "N = 6\n",
    " \n",
    "# Remove particular element from tuple list\n",
    "# using list comprehension\n",
    "res = [tuple(ele for ele in sub if ele != N) for sub in test_list]\n",
    " \n",
    "# printing result\n",
    "print(\"The Tuple List after removal of element : \" + str(res))"
   ]
  },
  {
   "cell_type": "code",
   "execution_count": 9,
   "id": "964ce80d-8313-4b4d-a8f7-f9b541734dfa",
   "metadata": {},
   "outputs": [],
   "source": [
    "# List example\n",
    "student_grades = [80, 90, 75, 85]\n",
    "student_grades[2] = 95  # Modifying a grade\n",
    "\n",
    "# Tuple example\n",
    "coordinate = (10, 20)\n",
    "# coordinate[0] = 15  # This will result in an error since coordinates should remain constant"
   ]
  },
  {
   "cell_type": "markdown",
   "id": "db3b9142-f7d9-46b7-a31d-81e89eea2759",
   "metadata": {},
   "source": [
    "# DICTIONARY"
   ]
  },
  {
   "cell_type": "markdown",
   "id": "8f9834ef-b646-44a9-babb-b8ee71d9aa29",
   "metadata": {},
   "source": [
    " Dictionary each key is separated from its value by a colon (:), the items are separated by commas, and the whole thing is enclosed in curly braces. An empty dictionary without any items is written with just two curly braces, like this − {}.\n",
    "\n",
    "Keys are unique within a dictionary while values may not be. The values of a dictionary can be of any type, but the keys must be of an immutable data type such as strings, numbers, or tuples."
   ]
  },
  {
   "cell_type": "code",
   "execution_count": 10,
   "id": "ffd2b753-bbd2-499b-89fc-b32e362e87a9",
   "metadata": {},
   "outputs": [
    {
     "name": "stdout",
     "output_type": "stream",
     "text": [
      "{'name': 'John', 'age': 21, 'city': 'New York'}\n"
     ]
    }
   ],
   "source": [
    "student = {\n",
    "    'name': 'John',\n",
    "    'age': 20,\n",
    "    'grade': 'A'\n",
    "}\n",
    "student['age'] = 21  # Modifying the value associated with the 'age' key\n",
    "student['city'] = 'New York'  # Adding a new key-value pair\n",
    "del student['grade']  # Removing the 'grade' key-value pair\n",
    "print(student)  # Output: {'name': 'John', 'age': 21, 'city': 'New York'}"
   ]
  },
  {
   "cell_type": "code",
   "execution_count": 17,
   "id": "7da60689-eb5a-46c3-9417-23ec2214d215",
   "metadata": {},
   "outputs": [
    {
     "name": "stdout",
     "output_type": "stream",
     "text": [
      "dict['Name']:  Zara\n",
      "dict['Age']:  7\n",
      "dict['Age']:  8\n",
      "dict['School']:  DPS School\n",
      "{'Age': 8, 'Class': 'First', 'School': 'DPS School'}\n"
     ]
    }
   ],
   "source": [
    "dict = {'Name': 'Zara', 'Age': 7, 'Class': 'First'}\n",
    "print (\"dict['Name']: \", dict['Name'])\n",
    "print (\"dict['Age']: \", dict['Age'])\n",
    "#Updating Dictionary\n",
    "dict['Age'] = 8; # update existing entry\n",
    "dict['School'] = \"DPS School\"; # Add new entry\n",
    "\n",
    "print (\"dict['Age']: \", dict['Age'])\n",
    "print (\"dict['School']: \", dict['School'])\n",
    "del dict['Name']; # remove entry with key 'Name'\n",
    "print(\"After deletion\",dict)"
   ]
  },
  {
   "cell_type": "markdown",
   "id": "f178ab66-c9ce-4012-ada2-3a29924c17b8",
   "metadata": {},
   "source": [
    "# SET"
   ]
  },
  {
   "cell_type": "markdown",
   "id": "00f93418-819a-4740-8064-9bdc20cc1094",
   "metadata": {},
   "source": [
    "set is a collection of items not in any particular order.\n",
    "The elements in the set cannot be duplicates.\n",
    "The elements in the set are immutable(cannot be modified) but the set as a whole is mutable.\n",
    "There is no index attached to any element in a python set. "
   ]
  },
  {
   "cell_type": "code",
   "execution_count": 26,
   "id": "2fca206a-7086-49ba-981c-86344adccd82",
   "metadata": {},
   "outputs": [
    {
     "name": "stdout",
     "output_type": "stream",
     "text": [
      "{'Mon', 'Fri', 'Sat', 'Wed', 'Tue', 'Sun', 'Thu'}\n",
      "{'Mar', 'Feb', 'Jan'}\n",
      "{17, 21, 22}\n",
      "Mon\n",
      "Fri\n",
      "Sat\n",
      "Wed\n",
      "Tue\n",
      "Sun\n",
      "Thu\n",
      "{'Mon', 'Fri', 'Sat', 'Wed', 'Tue', 'Thu'}\n",
      "{'Mon', 'Sat', 'Fri', 'Wed', 'Tue', 'Sun', 'Thu'}\n",
      "intersection of sets {'Wed'}\n",
      "Difference of sets {'Mon', 'Tue'}\n",
      "subset False\n",
      "superset False\n"
     ]
    }
   ],
   "source": [
    "Days=set([\"Mon\",\"Tue\",\"Wed\",\"Thu\",\"Fri\",\"Sat\",\"Sun\"])\n",
    "Months={\"Jan\",\"Feb\",\"Mar\"}\n",
    "Dates={21,22,17}\n",
    "print(Days)\n",
    "print(Months)\n",
    "print(Dates)\n",
    "for d in Days:\n",
    "   print(d)\n",
    "Days.discard(\"Sun\")\n",
    "print(Days)\n",
    "\n",
    "# union of set\n",
    "DaysA = set([\"Mon\",\"Tue\",\"Wed\"])\n",
    "DaysB = set([\"Wed\",\"Thu\",\"Fri\",\"Sat\",\"Sun\"])\n",
    "AllDays = DaysA|DaysB\n",
    "print(AllDays)\n",
    "# intersection of sets\n",
    "AllDays = DaysA & DaysB\n",
    "print(\"intersection of sets\",AllDays)\n",
    "# Difference of sets - The difference operation on two sets produces a new set containing only the elements from the first set and none from the second set.\n",
    "AllDays = DaysA - DaysB\n",
    "print(\"Difference of sets\",AllDays)\n",
    "\n",
    "#compare : We can check if a given set is a subset or superset of another set. The result is True or False depending on the elements present in the sets.\n",
    "SubsetRes = DaysA <= DaysB\n",
    "SupersetRes = DaysB >= DaysA\n",
    "print(\"subset\",SubsetRes)\n",
    "print(\"superset\",SupersetRes)"
   ]
  },
  {
   "cell_type": "code",
   "execution_count": 27,
   "id": "959f92d0-bfdf-4593-8f59-df734cf9891a",
   "metadata": {},
   "outputs": [],
   "source": [
    "# User defined Data Structure"
   ]
  },
  {
   "cell_type": "markdown",
   "id": "9e5b3188-42b0-48bb-ac0f-3f1419d56be8",
   "metadata": {},
   "source": [
    "# STACK"
   ]
  },
  {
   "cell_type": "markdown",
   "id": "08b166c6-1fb8-479f-8a07-929188ed4a6b",
   "metadata": {},
   "source": [
    "stack means arranging objects on over another. It is the same way memory is allocated in this data structure. It stores the data elements in a similar fashion as a bunch of plates are stored one above another in the kitchen.The operations of adding and removing the elements is known as PUSH and POP.we implement it as add and and remove functions. We declare an empty list and use the append() and pop() methods to add and remove the data elements."
   ]
  },
  {
   "cell_type": "code",
   "execution_count": 30,
   "id": "847d7c74-d436-4d6d-9211-1e4c5c05a82b",
   "metadata": {},
   "outputs": [
    {
     "name": "stdout",
     "output_type": "stream",
     "text": [
      "Tue\n",
      "Thu\n"
     ]
    }
   ],
   "source": [
    "# PUSH from stack\n",
    "class Stack:\n",
    "   def __init__(self):\n",
    "      self.stack = []\n",
    "\n",
    "   def add(self, dataval):\n",
    "# Use list append method to add element\n",
    "      if dataval not in self.stack:\n",
    "         self.stack.append(dataval)\n",
    "         return True\n",
    "      else:\n",
    "         return False\n",
    "# Use peek to look at the top of the stack\n",
    "   def peek(self):     \n",
    "\t   return self.stack[-1]\n",
    "\n",
    "AStack = Stack()\n",
    "AStack.add(\"Mon\")\n",
    "AStack.add(\"Tue\")\n",
    "AStack.peek()\n",
    "print(AStack.peek())\n",
    "AStack.add(\"Wed\")\n",
    "AStack.add(\"Thu\")\n",
    "print(AStack.peek())"
   ]
  },
  {
   "cell_type": "code",
   "execution_count": 29,
   "id": "5d4fd6df-38b7-40f6-9bed-4642af021f30",
   "metadata": {},
   "outputs": [
    {
     "name": "stdout",
     "output_type": "stream",
     "text": [
      "Thu\n",
      "Wed\n"
     ]
    }
   ],
   "source": [
    "# POP from stack\n",
    "class Stack:\n",
    "   def __init__(self):\n",
    "      self.stack = []\n",
    "\n",
    "   def add(self, dataval):\n",
    "# Use list append method to add element\n",
    "      if dataval not in self.stack:\n",
    "         self.stack.append(dataval)\n",
    "         return True\n",
    "      else:\n",
    "         return False\n",
    "        \n",
    "# Use list pop method to remove element\n",
    "   def remove(self):\n",
    "      if len(self.stack) <= 0:\n",
    "         return (\"No element in the Stack\")\n",
    "      else:\n",
    "         return self.stack.pop()\n",
    "\n",
    "AStack = Stack()\n",
    "AStack.add(\"Mon\")\n",
    "AStack.add(\"Tue\")\n",
    "AStack.add(\"Wed\")\n",
    "AStack.add(\"Thu\")\n",
    "print(AStack.remove())\n",
    "print(AStack.remove())"
   ]
  },
  {
   "cell_type": "markdown",
   "id": "456ff04b-26a3-420c-9cab-1a95831beb59",
   "metadata": {},
   "source": [
    "# Queue"
   ]
  },
  {
   "cell_type": "markdown",
   "id": "19be3377-842c-44d4-ab18-ba0ce6569441",
   "metadata": {},
   "source": [
    "The queue data structure aslo means the same where the data elements are arranged in a queue. The uniqueness of queue lies in the way items are added and removed. The items are allowed at on end but removed form the other end. So it is a First-in-First out method.A queue can be implemented using python list where we can use the insert() and pop() methods to add and remove elements. Their is no insertion as data elements are always added at the end of the queue."
   ]
  },
  {
   "cell_type": "code",
   "execution_count": 39,
   "id": "b8861fd2-2de9-4750-aec3-697f15f2a9df",
   "metadata": {},
   "outputs": [
    {
     "name": "stdout",
     "output_type": "stream",
     "text": [
      "3\n"
     ]
    }
   ],
   "source": [
    "# Adding element\n",
    "class Queue:\n",
    "    def __init__(self):\n",
    "        self.queue = list()\n",
    "\n",
    "# Insert method to add element\n",
    "    def addtoq(self,dataval):\n",
    "        if dataval not in self.queue:\n",
    "            self.queue.insert(0,dataval)\n",
    "            return True\n",
    "            return False\n",
    "\n",
    "    def size(self):\n",
    "        return len(self.queue)\n",
    "\n",
    "TheQueue = Queue()\n",
    "TheQueue.addtoq(\"Mon\")\n",
    "TheQueue.addtoq(\"Tue\")\n",
    "TheQueue.addtoq(\"Wed\")\n",
    "print(TheQueue.size())"
   ]
  },
  {
   "cell_type": "code",
   "execution_count": 47,
   "id": "aafbce09-ef06-411c-9328-878d77abe50f",
   "metadata": {},
   "outputs": [
    {
     "name": "stdout",
     "output_type": "stream",
     "text": [
      "Mon\n",
      "Tue\n"
     ]
    }
   ],
   "source": [
    "# Removing element\n",
    "class Queue:\n",
    "    def __init__(self):\n",
    "        self.queue = list()\n",
    "\n",
    "    def addtoq(self,dataval):\n",
    "# Insert method to add element\n",
    "      if dataval not in self.queue:\n",
    "        self.queue.insert(0,dataval)\n",
    "        return True\n",
    "        return False\n",
    "# Pop method to remove element\n",
    "    def removefromq(self):\n",
    "        if len(self.queue)>0:\n",
    "            return self.queue.pop()\n",
    "            return (\"No elements in Queue!\")\n",
    "\n",
    "TheQueue = Queue()\n",
    "TheQueue.addtoq(\"Mon\")\n",
    "TheQueue.addtoq(\"Tue\")\n",
    "TheQueue.addtoq(\"Wed\")\n",
    "print(TheQueue.removefromq())\n",
    "print(TheQueue.removefromq())"
   ]
  },
  {
   "cell_type": "markdown",
   "id": "cf365631",
   "metadata": {},
   "source": [
    "# 11) create a nested dictionary with 3 fields of 3 students"
   ]
  },
  {
   "cell_type": "code",
   "execution_count": 6,
   "id": "614e5afd",
   "metadata": {},
   "outputs": [],
   "source": [
    "data = {\n",
    "    'Student 1': {'Name': 'Bobby', 'Id': 1, \"Age\": 20,},\n",
    "    'Student 2': {'Name': 'ojaswi', 'Id': 2, \"Age\": 22},\n",
    "    'Student 3': {'Name': 'rohith', 'Id': 3, \"Age\": 20},\n",
    "}"
   ]
  },
  {
   "cell_type": "code",
   "execution_count": 10,
   "id": "30843683",
   "metadata": {},
   "outputs": [
    {
     "name": "stdout",
     "output_type": "stream",
     "text": [
      "dict_keys(['Name', 'Id', 'Age'])\n",
      "dict_keys(['Name', 'Id', 'Age'])\n",
      "dict_keys(['Name', 'Id', 'Age'])\n"
     ]
    }
   ],
   "source": [
    "for i in data:\n",
    "  # display\n",
    "    print(data[i].keys())"
   ]
  },
  {
   "cell_type": "code",
   "execution_count": 3,
   "id": "d2600afa",
   "metadata": {},
   "outputs": [
    {
     "name": "stdout",
     "output_type": "stream",
     "text": [
      "dict_values(['Bobby', 1, 20])\n",
      "dict_values(['ojaswi', 2, 22])\n",
      "dict_values(['rohith', 3, 20])\n"
     ]
    }
   ],
   "source": [
    "for i in data:\n",
    "  # display\n",
    "    print(data[i].values())"
   ]
  },
  {
   "cell_type": "code",
   "execution_count": 19,
   "id": "3771c2d2",
   "metadata": {},
   "outputs": [
    {
     "name": "stdout",
     "output_type": "stream",
     "text": [
      "['Student 1', 'Student 2', 'Student 3']\n",
      "{'Name': 'Bobby', 'Id': 1, 'Age': 20},{'Name': 'ojaswi', 'Id': 2, 'Age': 22},{'Name': 'rohith', 'Id': 3, 'Age': 20}\n"
     ]
    }
   ],
   "source": [
    "keys = [*data]\n",
    "values = '{Student 1},{Student 2},{Student 3}'.format(*data, **data)\n",
    "print(keys)\n",
    "print(values)"
   ]
  },
  {
   "cell_type": "markdown",
   "id": "3f2375a6",
   "metadata": {},
   "source": [
    "# Iterate over Tuples in Dictionary"
   ]
  },
  {
   "cell_type": "code",
   "execution_count": 9,
   "id": "08373137",
   "metadata": {},
   "outputs": [],
   "source": [
    "myDict = {1: (\"Apple\", \"Boy\", \"Cat\"),\n",
    "          2: (\"Geeks\", \"For\", \"Geeks\"),\n",
    "          3: (\"I\", \"Am\", \"Learning\", \"Python\")}"
   ]
  },
  {
   "cell_type": "code",
   "execution_count": 10,
   "id": "e0acbff7",
   "metadata": {},
   "outputs": [
    {
     "name": "stdout",
     "output_type": "stream",
     "text": [
      "('Apple', 'Boy', 'Cat')\n"
     ]
    }
   ],
   "source": [
    "print(myDict[1])"
   ]
  },
  {
   "cell_type": "code",
   "execution_count": 13,
   "id": "2732f696",
   "metadata": {},
   "outputs": [
    {
     "name": "stdout",
     "output_type": "stream",
     "text": [
      "Geeks\n",
      "For\n",
      "Geeks\n"
     ]
    }
   ],
   "source": [
    "for each in myDict[2]:\n",
    "    print(each)"
   ]
  },
  {
   "cell_type": "code",
   "execution_count": 14,
   "id": "132d3c1e",
   "metadata": {},
   "outputs": [
    {
     "name": "stdout",
     "output_type": "stream",
     "text": [
      "I\n",
      "Am\n",
      "Learning\n",
      "Python\n"
     ]
    }
   ],
   "source": [
    "for i in range(0, len(myDict[3])):\n",
    "    print(myDict[3][i])"
   ]
  },
  {
   "cell_type": "code",
   "execution_count": 17,
   "id": "c34a2170",
   "metadata": {},
   "outputs": [
    {
     "name": "stdout",
     "output_type": "stream",
     "text": [
      "Apple\n",
      "Boy\n",
      "Cat\n",
      " \n",
      "Geeks\n",
      "For\n",
      "Geeks\n",
      " \n",
      "I\n",
      "Am\n",
      "Learning\n",
      "Python\n",
      " \n"
     ]
    }
   ],
   "source": [
    "for i in myDict.values():\n",
    "    for j in i:\n",
    "        print(j)\n",
    "    print(\" \")"
   ]
  },
  {
   "cell_type": "code",
   "execution_count": 20,
   "id": "a33ca5cc",
   "metadata": {},
   "outputs": [
    {
     "name": "stdout",
     "output_type": "stream",
     "text": [
      "Apple Boy Cat\n",
      "Geeks For Geeks\n",
      "I Am Learning Python\n"
     ]
    }
   ],
   "source": [
    "for key, tupleValues in myDict.items():\n",
    "    print(*tupleValues)"
   ]
  },
  {
   "cell_type": "markdown",
   "id": "83edc7fd",
   "metadata": {},
   "source": [
    "# 12) Iterate over multiple lists simultaneously"
   ]
  },
  {
   "cell_type": "markdown",
   "id": "36e520d0",
   "metadata": {},
   "source": [
    "zip() : In Python 3, zip returns an iterator. zip() function stops when anyone of the list of all the lists gets exhausted. In simple words, it runs till the smallest of all the lists."
   ]
  },
  {
   "cell_type": "code",
   "execution_count": 21,
   "id": "eb43158c",
   "metadata": {},
   "outputs": [],
   "source": [
    "num = [1, 2, 3]\n",
    "color = ['red', 'while', 'black']\n",
    "value = [255, 256]"
   ]
  },
  {
   "cell_type": "code",
   "execution_count": 22,
   "id": "fb1f1c34",
   "metadata": {},
   "outputs": [
    {
     "name": "stdout",
     "output_type": "stream",
     "text": [
      "1 red 255\n",
      "2 while 256\n"
     ]
    }
   ],
   "source": [
    "for (a, b, c) in zip(num, color, value):\n",
    "     print (a, b, c)"
   ]
  },
  {
   "cell_type": "code",
   "execution_count": 24,
   "id": "dbdb931f",
   "metadata": {},
   "outputs": [
    {
     "name": "stdout",
     "output_type": "stream",
     "text": [
      "1 red 255\n",
      "2 while 256\n",
      "3 black None\n"
     ]
    }
   ],
   "source": [
    "import itertools\n",
    "for (a, b, c) in itertools.zip_longest(num, color, value):\n",
    "    print (a, b, c)"
   ]
  },
  {
   "cell_type": "markdown",
   "id": "2545779c",
   "metadata": {},
   "source": [
    "# 13) Json "
   ]
  },
  {
   "cell_type": "code",
   "execution_count": 50,
   "id": "0f08da17",
   "metadata": {},
   "outputs": [],
   "source": [
    "import json\n",
    "book_string = '''\n",
    "{\n",
    "   \"book\":[\n",
    "      {\n",
    "         \"id\":\"444\",\n",
    "         \"language\":\"C\",\n",
    "         \"edition\":\"First\",\n",
    "         \"author\":\"Dennis Ritchie \"\n",
    "      },\n",
    "      {\n",
    "         \"id\":\"555\",\n",
    "         \"language\":\"C++\",\n",
    "         \"edition\":\"second\",\n",
    "         \"author\":\" Bjarne Stroustrup \"\n",
    "      }\n",
    "   ]\n",
    "}  \n",
    "'''"
   ]
  },
  {
   "cell_type": "code",
   "execution_count": 51,
   "id": "213b8ba7",
   "metadata": {},
   "outputs": [
    {
     "name": "stdout",
     "output_type": "stream",
     "text": [
      "{'book': [{'id': '444', 'language': 'C', 'edition': 'First', 'author': 'Dennis Ritchie '}, {'id': '555', 'language': 'C++', 'edition': 'second', 'author': ' Bjarne Stroustrup '}]}\n"
     ]
    }
   ],
   "source": [
    "data = json.loads(book_string)\n",
    "print(data)"
   ]
  },
  {
   "cell_type": "code",
   "execution_count": 52,
   "id": "0544bcf5",
   "metadata": {},
   "outputs": [
    {
     "name": "stdout",
     "output_type": "stream",
     "text": [
      "<class 'dict'>\n"
     ]
    }
   ],
   "source": [
    "print(type(data))"
   ]
  },
  {
   "cell_type": "code",
   "execution_count": 53,
   "id": "8d1b4904",
   "metadata": {},
   "outputs": [
    {
     "name": "stdout",
     "output_type": "stream",
     "text": [
      "<class 'list'>\n"
     ]
    }
   ],
   "source": [
    "print(type(data['book']))"
   ]
  },
  {
   "cell_type": "code",
   "execution_count": 54,
   "id": "1a33e893",
   "metadata": {},
   "outputs": [
    {
     "name": "stdout",
     "output_type": "stream",
     "text": [
      "{'id': '444', 'language': 'C', 'edition': 'First', 'author': 'Dennis Ritchie '}\n",
      "{'id': '555', 'language': 'C++', 'edition': 'second', 'author': ' Bjarne Stroustrup '}\n"
     ]
    }
   ],
   "source": [
    "for books in data['book']:\n",
    "    print(books)"
   ]
  },
  {
   "cell_type": "code",
   "execution_count": 55,
   "id": "2dbdc9d2",
   "metadata": {},
   "outputs": [
    {
     "name": "stdout",
     "output_type": "stream",
     "text": [
      "444\n",
      "555\n"
     ]
    }
   ],
   "source": [
    "for books in data['book']:\n",
    "    print(books['id'])"
   ]
  },
  {
   "cell_type": "code",
   "execution_count": 56,
   "id": "fa4953a5",
   "metadata": {},
   "outputs": [
    {
     "name": "stdout",
     "output_type": "stream",
     "text": [
      "Dennis Ritchie \n",
      " Bjarne Stroustrup \n"
     ]
    }
   ],
   "source": [
    "for books in data['book']:\n",
    "    print(books['author'])"
   ]
  },
  {
   "cell_type": "code",
   "execution_count": 57,
   "id": "c1341d77",
   "metadata": {},
   "outputs": [],
   "source": [
    "for books in data['book']:\n",
    "    del books['edition']"
   ]
  },
  {
   "cell_type": "code",
   "execution_count": 60,
   "id": "8e2cd2a0",
   "metadata": {},
   "outputs": [
    {
     "name": "stdout",
     "output_type": "stream",
     "text": [
      "{\n",
      "  \"book\": [\n",
      "    {\n",
      "      \"author\": \"Dennis Ritchie \",\n",
      "      \"id\": \"444\",\n",
      "      \"language\": \"C\"\n",
      "    },\n",
      "    {\n",
      "      \"author\": \" Bjarne Stroustrup \",\n",
      "      \"id\": \"555\",\n",
      "      \"language\": \"C++\"\n",
      "    }\n",
      "  ]\n",
      "}\n"
     ]
    }
   ],
   "source": [
    "new_data = json.dumps(data, indent=2,sort_keys = True)\n",
    "print(new_data)"
   ]
  },
  {
   "cell_type": "markdown",
   "id": "f37a065c",
   "metadata": {},
   "source": [
    "# 14) Using json file"
   ]
  },
  {
   "cell_type": "code",
   "execution_count": 64,
   "id": "870c8c55",
   "metadata": {},
   "outputs": [],
   "source": [
    "import json\n",
    "with open('states.json') as f:\n",
    "    data = json.load(f)"
   ]
  },
  {
   "cell_type": "code",
   "execution_count": 65,
   "id": "f9ed9ebd",
   "metadata": {},
   "outputs": [
    {
     "name": "stdout",
     "output_type": "stream",
     "text": [
      "Alabama AL\n",
      "Alaska AK\n",
      "Arizona AZ\n",
      "Arkansas AR\n",
      "California CA\n",
      "Colorado CO\n",
      "Connecticut CT\n",
      "Delaware DE\n",
      "Florida FL\n",
      "Georgia GA\n",
      "Hawaii HI\n",
      "Idaho ID\n",
      "Illinois IL\n",
      "Indiana IN\n",
      "Iowa IA\n",
      "Kansas KS\n",
      "Kentucky KY\n",
      "Louisiana LA\n",
      "Maine ME\n",
      "Maryland MD\n",
      "Massachusetts MA\n",
      "Michigan MI\n",
      "Minnesota MN\n",
      "Mississippi MS\n",
      "Missouri MO\n",
      "Montana MT\n",
      "Nebraska NE\n",
      "Nevada NV\n",
      "New Hampshire NH\n",
      "New Jersey NJ\n",
      "New Mexico NM\n",
      "New York NY\n",
      "North Carolina NC\n",
      "North Dakota ND\n",
      "Ohio OH\n",
      "Oklahoma OK\n",
      "Oregon OR\n",
      "Pennsylvania PA\n",
      "Rhode Island RI\n",
      "South Carolina SC\n",
      "South Dakota SD\n",
      "Tennessee TN\n",
      "Texas TX\n",
      "Utah UT\n",
      "Vermont VT\n",
      "Virginia VA\n",
      "Washington WA\n",
      "West Virginia WV\n",
      "Wisconsin WI\n",
      "Wyoming WY\n"
     ]
    }
   ],
   "source": [
    "for state in data['states']:\n",
    "    print(state['name'],state['abbreviation'])"
   ]
  },
  {
   "cell_type": "code",
   "execution_count": 66,
   "id": "72605ede",
   "metadata": {},
   "outputs": [],
   "source": [
    "for state in data['states']:\n",
    "    del state['area_codes']"
   ]
  },
  {
   "cell_type": "code",
   "execution_count": 68,
   "id": "29c3f779",
   "metadata": {},
   "outputs": [],
   "source": [
    "with open('new_states.json','w') as f:\n",
    "    json.dump(data,f,indent=2)"
   ]
  },
  {
   "cell_type": "code",
   "execution_count": 75,
   "id": "30c873e8",
   "metadata": {},
   "outputs": [
    {
     "name": "stdout",
     "output_type": "stream",
     "text": [
      "{\n",
      "  \"authorizations_url\": \"https://api.github.com/authorizations\",\n",
      "  \"code_search_url\": \"https://api.github.com/search/code?q={query}{&page,per_page,sort,order}\",\n",
      "  \"commit_search_url\": \"https://api.github.com/search/commits?q={query}{&page,per_page,sort,order}\",\n",
      "  \"current_user_authorizations_html_url\": \"https://github.com/settings/connections/applications{/client_id}\",\n",
      "  \"current_user_repositories_url\": \"https://api.github.com/user/repos{?type,page,per_page,sort}\",\n",
      "  \"current_user_url\": \"https://api.github.com/user\",\n",
      "  \"emails_url\": \"https://api.github.com/user/emails\",\n",
      "  \"emojis_url\": \"https://api.github.com/emojis\",\n",
      "  \"events_url\": \"https://api.github.com/events\",\n",
      "  \"feeds_url\": \"https://api.github.com/feeds\",\n",
      "  \"followers_url\": \"https://api.github.com/user/followers\",\n",
      "  \"following_url\": \"https://api.github.com/user/following{/target}\",\n",
      "  \"gists_url\": \"https://api.github.com/gists{/gist_id}\",\n",
      "  \"hub_url\": \"https://api.github.com/hub\",\n",
      "  \"issue_search_url\": \"https://api.github.com/search/issues?q={query}{&page,per_page,sort,order}\",\n",
      "  \"issues_url\": \"https://api.github.com/issues\",\n",
      "  \"keys_url\": \"https://api.github.com/user/keys\",\n",
      "  \"label_search_url\": \"https://api.github.com/search/labels?q={query}&repository_id={repository_id}{&page,per_page}\",\n",
      "  \"notifications_url\": \"https://api.github.com/notifications\",\n",
      "  \"organization_repositories_url\": \"https://api.github.com/orgs/{org}/repos{?type,page,per_page,sort}\",\n",
      "  \"organization_teams_url\": \"https://api.github.com/orgs/{org}/teams\",\n",
      "  \"organization_url\": \"https://api.github.com/orgs/{org}\",\n",
      "  \"public_gists_url\": \"https://api.github.com/gists/public\",\n",
      "  \"rate_limit_url\": \"https://api.github.com/rate_limit\",\n",
      "  \"repository_search_url\": \"https://api.github.com/search/repositories?q={query}{&page,per_page,sort,order}\",\n",
      "  \"repository_url\": \"https://api.github.com/repos/{owner}/{repo}\",\n",
      "  \"starred_gists_url\": \"https://api.github.com/gists/starred\",\n",
      "  \"starred_url\": \"https://api.github.com/user/starred{/owner}{/repo}\",\n",
      "  \"topic_search_url\": \"https://api.github.com/search/topics?q={query}{&page,per_page}\",\n",
      "  \"user_organizations_url\": \"https://api.github.com/user/orgs\",\n",
      "  \"user_repositories_url\": \"https://api.github.com/users/{user}/repos{?type,page,per_page,sort}\",\n",
      "  \"user_search_url\": \"https://api.github.com/search/users?q={query}{&page,per_page,sort,order}\",\n",
      "  \"user_url\": \"https://api.github.com/users/{user}\"\n",
      "}\n"
     ]
    }
   ],
   "source": [
    "import json\n",
    "from urllib.request import urlopen\n",
    "\n",
    "with urlopen(\"https://api.github.com\") as response:\n",
    "    source = response.read()\n",
    "    \n",
    "data = json.loads(source)\n",
    "print(json.dumps(data, indent=2,sort_keys = True))"
   ]
  },
  {
   "cell_type": "markdown",
   "id": "3e3bb99d",
   "metadata": {},
   "source": [
    "# 15) List comprehension"
   ]
  },
  {
   "cell_type": "code",
   "execution_count": 76,
   "id": "5acdc69c",
   "metadata": {},
   "outputs": [],
   "source": [
    "my_list = [1,2,3,4,5,6,7,8,9,10]"
   ]
  },
  {
   "cell_type": "code",
   "execution_count": 77,
   "id": "8f070fd4",
   "metadata": {},
   "outputs": [
    {
     "name": "stdout",
     "output_type": "stream",
     "text": [
      "[3, 5, 7, 9, 11]\n"
     ]
    }
   ],
   "source": [
    "new_list = [number + 1 for number in my_list if number % 2 == 0]\n",
    "print(new_list)"
   ]
  },
  {
   "cell_type": "code",
   "execution_count": 80,
   "id": "760ff800",
   "metadata": {},
   "outputs": [
    {
     "name": "stdout",
     "output_type": "stream",
     "text": [
      "[3, 5, 7, 9, 11]\n"
     ]
    }
   ],
   "source": [
    "new_list = []\n",
    "for number in my_list:\n",
    "    if number % 2 == 0:\n",
    "        new_list.append(number + 1)\n",
    "print(new_list)"
   ]
  },
  {
   "cell_type": "markdown",
   "id": "754ade03",
   "metadata": {},
   "source": [
    "# 16) Dictionary Comprehension"
   ]
  },
  {
   "cell_type": "code",
   "execution_count": 81,
   "id": "c1651a74",
   "metadata": {},
   "outputs": [],
   "source": [
    "persons = [\n",
    "    {\n",
    "        'name': 'Alice',\n",
    "        'age': 30,\n",
    "        'title': 'Data Scientist'\n",
    "    },\n",
    "    {\n",
    "        'name': 'Bob',\n",
    "        'age': 35,\n",
    "        'title': 'Data Engineer'\n",
    "    },\n",
    "    {\n",
    "        'name': 'Chris',\n",
    "        'age': 33,\n",
    "        'title': 'Machine Learning Engineer'\n",
    "    }\n",
    "]"
   ]
  },
  {
   "cell_type": "code",
   "execution_count": 83,
   "id": "438c0119",
   "metadata": {},
   "outputs": [
    {
     "data": {
      "text/plain": [
       "{'Alice': 'Data Scientist', 'Bob': 'Data Engineer'}"
      ]
     },
     "execution_count": 83,
     "metadata": {},
     "output_type": "execute_result"
    }
   ],
   "source": [
    "data_employees = {}\n",
    "for p in persons:\n",
    "    if 'Data' in p['title']:\n",
    "        data_employees[p['name']] = p['title']\n",
    "data_employees"
   ]
  },
  {
   "cell_type": "code",
   "execution_count": 84,
   "id": "31cfc48d",
   "metadata": {},
   "outputs": [
    {
     "name": "stdout",
     "output_type": "stream",
     "text": [
      "{'Alice': 'Data Scientist', 'Bob': 'Data Engineer'}\n"
     ]
    }
   ],
   "source": [
    "data_employees = {p['name']:p['title'] for p in persons if 'Data' in p['title']}\n",
    "print(data_employees)"
   ]
  },
  {
   "cell_type": "markdown",
   "id": "645cbd87",
   "metadata": {},
   "source": [
    "# 17) Set Comprehension"
   ]
  },
  {
   "cell_type": "code",
   "execution_count": 87,
   "id": "2256f5bb",
   "metadata": {},
   "outputs": [
    {
     "name": "stdout",
     "output_type": "stream",
     "text": [
      "{'Bob', 'Alice'}\n"
     ]
    }
   ],
   "source": [
    "data_employees_set = set()\n",
    "for p in persons:\n",
    "    if 'Data' in p['title']:\n",
    "        data_employees_set.add(p['name'])\n",
    "print(data_employees_set)"
   ]
  },
  {
   "cell_type": "code",
   "execution_count": 89,
   "id": "6ab05c6e",
   "metadata": {},
   "outputs": [
    {
     "name": "stdout",
     "output_type": "stream",
     "text": [
      "<class 'set'>\n",
      "{'Bob', 'Alice'}\n"
     ]
    }
   ],
   "source": [
    "data_employees_set = {p['name'] for p in persons if 'Data' in p['title']}\n",
    "print(type(data_employees_set))\n",
    "print(data_employees_set)"
   ]
  },
  {
   "cell_type": "markdown",
   "id": "bde8c592",
   "metadata": {},
   "source": [
    "# 18) Nested Comprehension"
   ]
  },
  {
   "cell_type": "code",
   "execution_count": 90,
   "id": "489401ae",
   "metadata": {},
   "outputs": [
    {
     "name": "stdout",
     "output_type": "stream",
     "text": [
      "1x1=1 \t\n",
      "1x2=2 \t2x2=4 \t\n",
      "1x3=3 \t2x3=6 \t3x3=9 \t\n",
      "1x4=4 \t2x4=8 \t3x4=12 \t4x4=16 \t\n",
      "1x5=5 \t2x5=10 \t3x5=15 \t4x5=20 \t5x5=25 \t\n",
      "1x6=6 \t2x6=12 \t3x6=18 \t4x6=24 \t5x6=30 \t6x6=36 \t\n",
      "1x7=7 \t2x7=14 \t3x7=21 \t4x7=28 \t5x7=35 \t6x7=42 \t7x7=49 \t\n",
      "1x8=8 \t2x8=16 \t3x8=24 \t4x8=32 \t5x8=40 \t6x8=48 \t7x8=56 \t8x8=64 \t\n",
      "1x9=9 \t2x9=18 \t3x9=27 \t4x9=36 \t5x9=45 \t6x9=54 \t7x9=63 \t8x9=72 \t9x9=81 \t\n"
     ]
    }
   ],
   "source": [
    "for row in range(1, 10):\n",
    "    for col in range(1, row+1):\n",
    "        print(f'{col}x{row}={row*col} \\t', end='')\n",
    "    print(\"\")"
   ]
  },
  {
   "cell_type": "code",
   "execution_count": 91,
   "id": "bbf287d4",
   "metadata": {},
   "outputs": [
    {
     "name": "stdout",
     "output_type": "stream",
     "text": [
      "1x1=1 \t\n",
      "1x2=2 \t2x2=4 \t\n",
      "1x3=3 \t2x3=6 \t3x3=9 \t\n",
      "1x4=4 \t2x4=8 \t3x4=12 \t4x4=16 \t\n",
      "1x5=5 \t2x5=10 \t3x5=15 \t4x5=20 \t5x5=25 \t\n",
      "1x6=6 \t2x6=12 \t3x6=18 \t4x6=24 \t5x6=30 \t6x6=36 \t\n",
      "1x7=7 \t2x7=14 \t3x7=21 \t4x7=28 \t5x7=35 \t6x7=42 \t7x7=49 \t\n",
      "1x8=8 \t2x8=16 \t3x8=24 \t4x8=32 \t5x8=40 \t6x8=48 \t7x8=56 \t8x8=64 \t\n",
      "1x9=9 \t2x9=18 \t3x9=27 \t4x9=36 \t5x9=45 \t6x9=54 \t7x9=63 \t8x9=72 \t9x9=81 \t\n"
     ]
    }
   ],
   "source": [
    "print('\\n'.join([''.join([f'{col}x{row}={row*col} \\t' for col in range(1, row + 1)]) for row in range(1, 10)]))"
   ]
  },
  {
   "cell_type": "markdown",
   "id": "2f46a321",
   "metadata": {},
   "source": [
    "# 19) Lambda within map() functions:"
   ]
  },
  {
   "cell_type": "markdown",
   "id": "86861fb3",
   "metadata": {},
   "source": [
    "Functions with no name are known as lambda functions. These functions are frequently used as input to other functions.\n",
    "Map function : The function is used to define an expression which is then applied to the ‘iterables’. User-defined functions and lambda functions can both be sent to the map function."
   ]
  },
  {
   "cell_type": "code",
   "execution_count": 92,
   "id": "3e6019f6",
   "metadata": {},
   "outputs": [
    {
     "name": "stdout",
     "output_type": "stream",
     "text": [
      "(8, 10, 25, 100, 57, 65, 80, 26, 76, 64)\n"
     ]
    }
   ],
   "source": [
    "tup= (5, 7, 22, 97, 54, 62, 77, 23, 73, 61)\n",
    "newtuple = tuple(map(lambda x: x+3 , tup)) \n",
    "print(newtuple)"
   ]
  },
  {
   "cell_type": "markdown",
   "id": "a87399cc",
   "metadata": {},
   "source": [
    "# 20) The filter() function:"
   ]
  },
  {
   "cell_type": "markdown",
   "id": "2d8bb9a0",
   "metadata": {},
   "source": [
    "The filter() function is used to generate an output list of values that return true when the function is called."
   ]
  },
  {
   "cell_type": "code",
   "execution_count": 93,
   "id": "fc7c5193",
   "metadata": {},
   "outputs": [
    {
     "name": "stdout",
     "output_type": "stream",
     "text": [
      "<filter object at 0x0000024157465AC0>\n",
      "[3, 4]\n"
     ]
    }
   ],
   "source": [
    "def func(x):\n",
    "    if x>=3:\n",
    "        return x\n",
    "y = filter(func, (1,2,3,4))  \n",
    "print(y)\n",
    "print(list(y))"
   ]
  },
  {
   "cell_type": "markdown",
   "id": "5c134cee",
   "metadata": {},
   "source": [
    "# 21) Lambda within filter() functions:"
   ]
  },
  {
   "cell_type": "code",
   "execution_count": 94,
   "id": "982256bd",
   "metadata": {},
   "outputs": [
    {
     "name": "stdout",
     "output_type": "stream",
     "text": [
      "[3, 4]\n"
     ]
    }
   ],
   "source": [
    "y = filter(lambda x: (x>=3), (1,2,3,4))\n",
    "print(list(y))"
   ]
  },
  {
   "cell_type": "markdown",
   "id": "5af22402",
   "metadata": {},
   "source": [
    "# 22) The reduce() function:"
   ]
  },
  {
   "cell_type": "markdown",
   "id": "d9db94e1",
   "metadata": {},
   "source": [
    "The reduce() function applies a provided function to ‘iterables’ and returns a single value, as the name implies."
   ]
  },
  {
   "cell_type": "code",
   "execution_count": 95,
   "id": "d6bd77c5",
   "metadata": {},
   "outputs": [
    {
     "data": {
      "text/plain": [
       "187"
      ]
     },
     "execution_count": 95,
     "metadata": {},
     "output_type": "execute_result"
    }
   ],
   "source": [
    "from functools import reduce\n",
    "reduce(lambda a,b: a+b,[23,21,45,98])"
   ]
  },
  {
   "cell_type": "markdown",
   "id": "41478acf-2f99-443c-94e1-9cb47abed0ef",
   "metadata": {},
   "source": [
    "# PYTHON INTERVIEW QUESTIONS:"
   ]
  },
  {
   "cell_type": "markdown",
   "id": "947c63a2-0538-4d30-8451-36ddd92e30e6",
   "metadata": {},
   "source": [
    "82. Write python function which takes a variable number of arguments.<br>\n",
    "A function that takes variable arguments is called a function prototype. Syntax:<br>\n",
    "\n",
    "def function_name(*arg_list)<br>\n",
    "The * in the function argument represents variable arguments in the function"
   ]
  },
  {
   "cell_type": "code",
   "execution_count": 1,
   "id": "1c6f237f-fb24-43da-848e-87f5ac883044",
   "metadata": {},
   "outputs": [],
   "source": [
    "def func(*var):\n",
    "    for i in var:\n",
    "        print(i)"
   ]
  },
  {
   "cell_type": "code",
   "execution_count": 2,
   "id": "be05c096-8268-42bc-a242-e0845b0a0edf",
   "metadata": {},
   "outputs": [
    {
     "name": "stdout",
     "output_type": "stream",
     "text": [
      "1\n"
     ]
    }
   ],
   "source": [
    "func(1)"
   ]
  },
  {
   "cell_type": "code",
   "execution_count": 3,
   "id": "9f228ceb-4924-4d49-be21-fbcdfcea2375",
   "metadata": {},
   "outputs": [
    {
     "name": "stdout",
     "output_type": "stream",
     "text": [
      "20\n",
      "1\n",
      "6\n"
     ]
    }
   ],
   "source": [
    "func(20,1,6)"
   ]
  },
  {
   "cell_type": "markdown",
   "id": "a52bae69-6086-4747-9ca3-1795ae635576",
   "metadata": {},
   "source": [
    "83. WAP (Write a program) which takes a sequence of numbers and check if all numbers are unique.<br>\n",
    "You can do this by converting the list to set by using set() method and comparing the length of this set with the length of the original list. If found equal, return True."
   ]
  },
  {
   "cell_type": "code",
   "execution_count": 8,
   "id": "b4d8db46-9552-4a8c-ad8a-ac3b6c384277",
   "metadata": {},
   "outputs": [],
   "source": [
    "def check_unique(data_list):\n",
    "    if (len(data_list) == len(set(data_list))):\n",
    "        return True\n",
    "    else:\n",
    "        return False"
   ]
  },
  {
   "cell_type": "code",
   "execution_count": 11,
   "id": "e6a4fd59-4b4a-406c-9e90-5008a448540a",
   "metadata": {},
   "outputs": [
    {
     "name": "stdout",
     "output_type": "stream",
     "text": [
      "False\n"
     ]
    }
   ],
   "source": [
    "print(check_unique([1,1,2,3]))"
   ]
  },
  {
   "cell_type": "markdown",
   "id": "a2acc887-9516-4d1c-ad8e-2981e5a29ef5",
   "metadata": {},
   "source": [
    "84. Write a program for counting the number of every character of a given text file."
   ]
  },
  {
   "cell_type": "code",
   "execution_count": 13,
   "id": "e2fb2bc5-05bf-4d5e-b754-d635925fac63",
   "metadata": {},
   "outputs": [
    {
     "name": "stdout",
     "output_type": "stream",
     "text": [
      "720\n"
     ]
    }
   ],
   "source": [
    "import collections\n",
    "import pprint\n",
    "with open(\"annotation.txt\", 'r') as data:\n",
    "    count_data = collections.Counter(data.read().upper())\n",
    "    count_value = pprint.pformat(count_data)\n",
    "print(len(count_value))"
   ]
  },
  {
   "cell_type": "markdown",
   "id": "dd0461ea-b56d-4b6f-b668-9c646aee151e",
   "metadata": {},
   "source": [
    "\n",
    "<B>Hash maps<B> are data structures a common data structure used to store key-value pairs for efficient retrieval. <br>\n",
    "A value stored in a hash map is retrieved using the key under which it was stored.<br>\n",
    "Each Hash Map key can be paired with only one value."
   ]
  },
  {
   "cell_type": "markdown",
   "id": "262dc10c-d261-4e82-9cca-3ac6a40c2c5e",
   "metadata": {},
   "source": [
    "85. Write a program to check and return the pairs of a given array A whose sum value is equal to a target value N."
   ]
  },
  {
   "cell_type": "code",
   "execution_count": 17,
   "id": "38fc48a4-b3c1-41d8-9fb5-728e03082558",
   "metadata": {},
   "outputs": [],
   "source": [
    "def print_pairs(arr, N):\n",
    "   # hash set\n",
    "   hash_set = set()\n",
    "    \n",
    "   for i in range(0, len(arr)):\n",
    "       val = N-arr[i]\n",
    "       if (val in hash_set):    #check if N-x is there in set, print the pair\n",
    "           print(\"Pairs \" + str(arr[i]) + \", \" + str(val))\n",
    "       hash_set.add(arr[i])"
   ]
  },
  {
   "cell_type": "code",
   "execution_count": 18,
   "id": "ddcb433a-23c5-4adc-8896-6eacbd3328a3",
   "metadata": {},
   "outputs": [
    {
     "name": "stdout",
     "output_type": "stream",
     "text": [
      "Pairs 2, 1\n"
     ]
    }
   ],
   "source": [
    "# driver code\n",
    "arr = [1, 2, 40, 3, 9, 4]\n",
    "N = 3\n",
    "print_pairs(arr, N)"
   ]
  },
  {
   "cell_type": "markdown",
   "id": "db19658b-0859-4765-a6e0-88d3bd3d3958",
   "metadata": {},
   "source": [
    "86. Write a Program to add two integers >0 without using the plus operator."
   ]
  },
  {
   "cell_type": "code",
   "execution_count": 19,
   "id": "68c34dd8-6849-42b4-8f3b-0c8ebaa5f269",
   "metadata": {},
   "outputs": [],
   "source": [
    "def add_nums(num1, num2):\n",
    "   while num2 != 0:\n",
    "       data = num1 & num2\n",
    "       num1 = num1 ^ num2\n",
    "       num2 = data << 1\n",
    "   return num1"
   ]
  },
  {
   "cell_type": "code",
   "execution_count": 20,
   "id": "c207e5ec-c178-4612-a4c6-77ebdbf7b9c8",
   "metadata": {},
   "outputs": [
    {
     "name": "stdout",
     "output_type": "stream",
     "text": [
      "12\n"
     ]
    }
   ],
   "source": [
    "print(add_nums(2, 10))"
   ]
  },
  {
   "cell_type": "markdown",
   "id": "1c2dfefd-3f13-47aa-a2d5-08fdd11382a5",
   "metadata": {},
   "source": [
    "87. Write a Program to solve the given equation assuming that a,b,c,m,n,o are constants:<br>\n",
    "ax + by = c<br>\n",
    "mx + ny = o"
   ]
  },
  {
   "cell_type": "code",
   "execution_count": 22,
   "id": "10574435-6e74-4c42-9818-e43fb481e621",
   "metadata": {},
   "outputs": [
    {
     "name": "stdout",
     "output_type": "stream",
     "text": [
      "-0.0 0.4444444444444444\n"
     ]
    }
   ],
   "source": [
    "a, b, c, m, n, o = 5, 9, 4, 7, 9, 4\n",
    "temp = a*n - b*m\n",
    "if n != 0:\n",
    "   x = (c*n - b*o) / temp\n",
    "   y = (a*o - m*c) / temp\n",
    "   print(str(x), str(y))"
   ]
  },
  {
   "cell_type": "markdown",
   "id": "17ca2f0a-5ed5-4d8c-9678-5ce7fb651ebd",
   "metadata": {},
   "source": [
    "88. Write a Program to match a string that has the letter ‘a’ followed by 4 to 8 'b’s.<br>\n",
    "We can use the re module of python to perform regex pattern comparison here."
   ]
  },
  {
   "cell_type": "code",
   "execution_count": 23,
   "id": "2ec87355-6ced-47b0-bb93-be46b4475352",
   "metadata": {},
   "outputs": [
    {
     "name": "stdout",
     "output_type": "stream",
     "text": [
      "Match not found\n",
      "Match found\n"
     ]
    }
   ],
   "source": [
    "import re\n",
    "def match_text(txt_data):\n",
    "       pattern = 'ab{4,8}'\n",
    "       if re.search(pattern,  txt_data):    #search for pattern in txt_data\n",
    "           return 'Match found'\n",
    "       else:\n",
    "           return('Match not found')\n",
    "print(match_text(\"abc\"))         #prints Match not found\n",
    "print(match_text(\"aabbbbbc\"))    #prints Match found"
   ]
  },
  {
   "cell_type": "markdown",
   "id": "ac958291-932d-4e4c-ba9b-826727d88a63",
   "metadata": {},
   "source": [
    "89. Write a Program to convert date from yyyy-mm-dd format to dd-mm-yyyy format."
   ]
  },
  {
   "cell_type": "code",
   "execution_count": 24,
   "id": "2b69a7ba-0805-4178-8f66-6bce7c89875e",
   "metadata": {},
   "outputs": [
    {
     "name": "stdout",
     "output_type": "stream",
     "text": [
      "01-08-2021\n"
     ]
    }
   ],
   "source": [
    "import re\n",
    "def transform_date_format(date):\n",
    "   return re.sub(r'(\\d{4})-(\\d{1,2})-(\\d{1,2})', '\\\\3-\\\\2-\\\\1', date)\n",
    "date_input = \"2021-08-01\"\n",
    "print(transform_date_format(date_input))"
   ]
  },
  {
   "cell_type": "code",
   "execution_count": 27,
   "id": "0d402d99-2039-4378-b802-c21e5c9d5227",
   "metadata": {},
   "outputs": [
    {
     "name": "stdout",
     "output_type": "stream",
     "text": [
      "01:08:2021\n"
     ]
    }
   ],
   "source": [
    "from datetime import datetime\n",
    "new_date = datetime.strptime(\"2021-08-01\", \"%Y-%m-%d\").strftime(\"%d:%m:%Y\")\n",
    "print(new_date)"
   ]
  },
  {
   "cell_type": "markdown",
   "id": "afb9b7f3-0861-4b74-9a37-07b6dd8da116",
   "metadata": {},
   "source": [
    "90. Write a Program to combine two different dictionaries. <br>\n",
    "While combining, if you find the same keys, you can add the values of these same keys. Output the new dictionary"
   ]
  },
  {
   "cell_type": "code",
   "execution_count": 28,
   "id": "c7e75061-a64d-4b80-af9c-40ad6789a1aa",
   "metadata": {},
   "outputs": [
    {
     "name": "stdout",
     "output_type": "stream",
     "text": [
      "Counter({'key4': 300, 'key1': 250, 'key2': 200, 'key3': 200})\n"
     ]
    }
   ],
   "source": [
    "from collections import Counter\n",
    "d1 = {'key1': 50, 'key2': 100, 'key3':200}\n",
    "d2 = {'key1': 200, 'key2': 100, 'key4':300}\n",
    "new_dict = Counter(d1) + Counter(d2)\n",
    "print(new_dict)"
   ]
  },
  {
   "cell_type": "markdown",
   "id": "c2f85868-d4e0-4d55-8fc9-e2e1db37ad2d",
   "metadata": {},
   "source": [
    "91. How will you access the dataset of a publicly shared spreadsheet in CSV format stored in Google Drive?"
   ]
  },
  {
   "cell_type": "code",
   "execution_count": 32,
   "id": "1fc7dbca-fc04-4c87-adb0-7000691f12b3",
   "metadata": {},
   "outputs": [
    {
     "name": "stdout",
     "output_type": "stream",
     "text": [
      "Collecting pandas\n",
      "  Downloading pandas-1.5.3-cp38-cp38-win_amd64.whl (11.0 MB)\n",
      "     --------------------------------------- 11.0/11.0 MB 10.7 MB/s eta 0:00:00\n",
      "Collecting numpy>=1.20.3\n",
      "  Downloading numpy-1.24.2-cp38-cp38-win_amd64.whl (14.9 MB)\n",
      "     --------------------------------------- 14.9/14.9 MB 13.1 MB/s eta 0:00:00\n",
      "Requirement already satisfied: python-dateutil>=2.8.1 in c:\\users\\inpunprap\\.conda\\envs\\codingquestions\\lib\\site-packages (from pandas) (2.8.2)\n",
      "Requirement already satisfied: pytz>=2020.1 in c:\\users\\inpunprap\\.conda\\envs\\codingquestions\\lib\\site-packages (from pandas) (2022.7)\n",
      "Requirement already satisfied: six>=1.5 in c:\\users\\inpunprap\\.conda\\envs\\codingquestions\\lib\\site-packages (from python-dateutil>=2.8.1->pandas) (1.16.0)\n",
      "Installing collected packages: numpy, pandas\n",
      "Successfully installed numpy-1.24.2 pandas-1.5.3\n",
      "Note: you may need to restart the kernel to use updated packages.\n"
     ]
    }
   ],
   "source": [
    "pip install pandas"
   ]
  },
  {
   "cell_type": "code",
   "execution_count": 34,
   "id": "520f8f7f-cb43-4759-a273-8491632c2b8b",
   "metadata": {},
   "outputs": [
    {
     "name": "stdout",
     "output_type": "stream",
     "text": [
      "Note: you may need to restart the kernel to use updated packages.\n"
     ]
    },
    {
     "name": "stderr",
     "output_type": "stream",
     "text": [
      "ERROR: Could not find a version that satisfies the requirement StringIO (from versions: none)\n",
      "ERROR: No matching distribution found for StringIO\n"
     ]
    }
   ],
   "source": [
    "pip install StringIO"
   ]
  },
  {
   "cell_type": "code",
   "execution_count": 46,
   "id": "c567b8f6-4173-45b2-898b-7fd0fb418d11",
   "metadata": {},
   "outputs": [],
   "source": [
    "# from io import StringIO\n",
    "# import pandas as pd\n",
    "# csv_link = \"https://docs.google.com/spreadsheets/d/...\"\n",
    "# data_source = StringIO.StringIO(requests.get(csv_link).content)\n",
    "# dataframe = pd.read_csv(data_source)\n",
    "# print(dataframe.head())"
   ]
  },
  {
   "cell_type": "markdown",
   "id": "a70da6c2-2dd8-41f4-b91f-ce225e12602b",
   "metadata": {},
   "source": [
    "92) Suppose list1 = [3,4,5,2,1,0], what is list1 after list1.pop(1)?"
   ]
  },
  {
   "cell_type": "code",
   "execution_count": 5,
   "id": "fe2b29b2-324d-450c-9007-2a3ae9a60c99",
   "metadata": {},
   "outputs": [
    {
     "data": {
      "text/plain": [
       "4"
      ]
     },
     "execution_count": 5,
     "metadata": {},
     "output_type": "execute_result"
    }
   ],
   "source": [
    "list1 = [3,4,5,2,1,0]\n",
    "list1.pop(1)"
   ]
  },
  {
   "cell_type": "markdown",
   "id": "180fc244-2973-483e-8318-3153f12da8cb",
   "metadata": {},
   "source": [
    "93) What is the output of the following statement \"Hello World\"[::-1]?"
   ]
  },
  {
   "cell_type": "code",
   "execution_count": 6,
   "id": "77958f6b-c7f9-4f9e-8ed6-6435adaf61a9",
   "metadata": {},
   "outputs": [
    {
     "data": {
      "text/plain": [
       "'dlroW olleH'"
      ]
     },
     "execution_count": 6,
     "metadata": {},
     "output_type": "execute_result"
    }
   ],
   "source": [
    "\"Hello World\"[::-1]"
   ]
  },
  {
   "cell_type": "markdown",
   "id": "5dc7bf14-e338-43c6-9b75-9e119659ef3c",
   "metadata": {},
   "source": [
    "93) What is the difference between lists and tuples? <br>\n",
    "Lists are mutable but tuples are immutable."
   ]
  },
  {
   "cell_type": "markdown",
   "id": "0d4c3a14-02bb-4247-9949-1784f3a4253f",
   "metadata": {},
   "source": [
    "94) Let func = lambda a, b : (a ** b), what is the output of func(float(10),20) ?"
   ]
  },
  {
   "cell_type": "code",
   "execution_count": 8,
   "id": "65b01374-317c-4643-841d-a0df1c6e1ad5",
   "metadata": {},
   "outputs": [
    {
     "data": {
      "text/plain": [
       "1e+20"
      ]
     },
     "execution_count": 8,
     "metadata": {},
     "output_type": "execute_result"
    }
   ],
   "source": [
    "func = lambda a, b : (a ** b)\n",
    "func(float(10),20)"
   ]
  },
  {
   "cell_type": "markdown",
   "id": "2b490c94-b00c-4c5e-bfcc-18f597d5f139",
   "metadata": {},
   "source": [
    "95)  statement is  for __init__?\n",
    "__init__ is a constructor method in Python.<br>\n",
    "All classes have a __init__ method associated with them.<br>\n",
    "__init__ allocates memory for objects."
   ]
  },
  {
   "cell_type": "markdown",
   "id": "9e991b45-a8f1-44e1-96c6-ecf70be19fa6",
   "metadata": {},
   "source": [
    "96)Which of the following is the function responsible for pickling? <br>\n",
    "pickle.dump()"
   ]
  },
  {
   "cell_type": "markdown",
   "id": "6b1191b2-4a4a-4d06-8846-1989682a6ab2",
   "metadata": {},
   "source": [
    "97) Which of the following is a protected attribute?<br>\n",
    "_sara_<br>\n",
    "time.time() in Python returns? : Current time in milliseconds since midnight, January 1, 1970 GMT (the Unix time)."
   ]
  },
  {
   "cell_type": "markdown",
   "id": "cd7c0b8b-c79a-4b6b-a894-b8f5fe30ce8a",
   "metadata": {},
   "source": [
    "Python namespaces have keys as addresses of the objects."
   ]
  },
  {
   "cell_type": "markdown",
   "id": "3ae55eab-b298-4013-9b84-dec50fa9ac75",
   "metadata": {},
   "source": [
    "98)Let list1 = ['s', 'r', 'a', 's'] and list2 = ['a', 'a', 'n', 'h'], what is the output of [\"\".join([i, j]) for i, j in zip(list1, list2)]?"
   ]
  },
  {
   "cell_type": "code",
   "execution_count": 10,
   "id": "1f93c7b3-b77f-4cfd-97a7-822b06a8155f",
   "metadata": {},
   "outputs": [],
   "source": [
    "list1 = ['s', 'r', 'a', 's']\n",
    "list2 = ['a', 'a', 'n', 'h']"
   ]
  },
  {
   "cell_type": "code",
   "execution_count": 11,
   "id": "4cc661c9-337b-4f0e-9ecc-8cde89c3bbce",
   "metadata": {},
   "outputs": [
    {
     "data": {
      "text/plain": [
       "['sa', 'ra', 'an', 'sh']"
      ]
     },
     "execution_count": 11,
     "metadata": {},
     "output_type": "execute_result"
    }
   ],
   "source": [
    "[\"\".join([i, j]) for i, j in zip(list1, list2)]"
   ]
  },
  {
   "cell_type": "code",
   "execution_count": 13,
   "id": "c23d3ef2-33b7-4eaa-905f-a5489863d7bd",
   "metadata": {},
   "outputs": [
    {
     "name": "stdout",
     "output_type": "stream",
     "text": [
      "4\n",
      "8\n",
      "24\n"
     ]
    }
   ],
   "source": [
    "class A(object):\n",
    "   def __init__(self, a):\n",
    "       self.num = a\n",
    "   def mul_two(self):\n",
    "       self.num *= 2\n",
    " \n",
    "class B(A):\n",
    "   def __init__(self, a):\n",
    "       A.__init__(self, a)\n",
    "   def mul_three(self):\n",
    "       self.num *= 3\n",
    " \n",
    "obj = B(4)\n",
    "print(obj.num)\n",
    " \n",
    "obj.mul_two()\n",
    "print(obj.num)\n",
    " \n",
    "obj.mul_three()\n",
    "print(obj.num)"
   ]
  },
  {
   "cell_type": "code",
   "execution_count": 15,
   "id": "4924654d-beeb-49ef-9bc4-4ec7ee5d195f",
   "metadata": {},
   "outputs": [
    {
     "name": "stdout",
     "output_type": "stream",
     "text": [
      "Mr Employee True IB007\n"
     ]
    }
   ],
   "source": [
    "class Human(object):\n",
    "   def __init__(self, name):\n",
    "       self.human_name = name\n",
    "         \n",
    "   def getHumanName(self):\n",
    "       return self.human_name\n",
    "     \n",
    "   def isEmployee(self):\n",
    "       return False\n",
    " \n",
    "class IBEmployee(Human):\n",
    "   def __init__(self, name, emp_id): \n",
    "       super(IBEmployee, self).__init__(name)\n",
    "       self.emp_id = emp_id\n",
    "         \n",
    "   def isEmployee(self):\n",
    "       return True\n",
    "         \n",
    "   def get_emp_id(self):\n",
    "       return self.emp_id\n",
    " \n",
    "# Driver code\n",
    "employee = IBEmployee(\"Mr Employee\", \"IB007\") \n",
    "print(employee.getHumanName(), employee.isEmployee(), employee.get_emp_id())"
   ]
  },
  {
   "cell_type": "markdown",
   "id": "95d94bea-88d9-4d1a-a985-1c18b8dbbc1f",
   "metadata": {},
   "source": [
    "Traceback (most recent call last): File \"<input>\", line 10, in<module> UnicodeEncodeError:\n",
    "'ascii' codec can't encode character. :<BR>\n",
    "pd.read_csv(“sample_file.csv”, encoding=‘utf-8’)"
   ]
  },
  {
   "cell_type": "markdown",
   "id": "a7ad8d3f-b10b-4b33-8efb-413802893e2e",
   "metadata": {},
   "source": [
    "Which among the following options helps us to check whether a pandas dataframe is empty?<br>\n",
    "df.empty"
   ]
  },
  {
   "cell_type": "code",
   "execution_count": 28,
   "id": "4c2686f4-92a2-4d4a-84c9-13d21641d3ec",
   "metadata": {},
   "outputs": [],
   "source": [
    "#How will you find the location of numbers which are multiples of 5 in a series?\n",
    "\n",
    "# import pandas as pd\n",
    "# import numpy as np\n",
    "# series_data = pd.Series(np.random.randint(1, 20, 7))\n",
    "# #insert code here\n",
    "# np.argwhere(series_data % 5==0)"
   ]
  },
  {
   "cell_type": "code",
   "execution_count": 23,
   "id": "ab8f97fe-786b-471f-98c0-82fc4fd69022",
   "metadata": {},
   "outputs": [
    {
     "name": "stdout",
     "output_type": "stream",
     "text": [
      "XYZ PQR\n"
     ]
    }
   ],
   "source": [
    "class Person:\n",
    "   def __init__(self, first_name, last_name):\n",
    "       self.first_name = first_name\n",
    "       self.last_name = last_name\n",
    "\n",
    "first_name = \"XYZ\"\n",
    "person = Person(first_name, \"ABC\")\n",
    "first_name = \"LMN\"\n",
    "person.last_name = \"PQR\"\n",
    "print(person.first_name, person.last_name)"
   ]
  },
  {
   "cell_type": "code",
   "execution_count": 25,
   "id": "a375ba3b-0d95-4a36-9846-0e298eb1b4d8",
   "metadata": {},
   "outputs": [
    {
     "data": {
      "text/plain": [
       "[-1]"
      ]
     },
     "execution_count": 25,
     "metadata": {},
     "output_type": "execute_result"
    }
   ],
   "source": [
    "#Which among the below options picks out negative numbers from the given list.\n",
    "list = [-1,2,3]\n",
    "[num for num in list if num<0]"
   ]
  },
  {
   "cell_type": "code",
   "execution_count": 26,
   "id": "a829ed60-b067-4fb3-b66c-86abfcb13702",
   "metadata": {},
   "outputs": [
    {
     "name": "stdout",
     "output_type": "stream",
     "text": [
      "3\n"
     ]
    }
   ],
   "source": [
    "main_dict={}\n",
    "def insert_item(item):\n",
    "   if item in main_dict:\n",
    "       main_dict[item] += 1\n",
    "   else:\n",
    "       main_dict[item] = 1\n",
    "#Driver code\n",
    "insert_item('Key1')\n",
    "insert_item('Key2')\n",
    "insert_item('Key2')\n",
    "insert_item('Key3')\n",
    "insert_item('Key1')\n",
    "print (len(main_dict))"
   ]
  },
  {
   "cell_type": "code",
   "execution_count": 27,
   "id": "83723e04-17f1-4b19-a870-512bc8198537",
   "metadata": {},
   "outputs": [
    {
     "name": "stdout",
     "output_type": "stream",
     "text": [
      "5 6\n"
     ]
    }
   ],
   "source": [
    "class X:\n",
    "    def __init__(self):\n",
    "        self.__num1 = 5\n",
    "        self.num2 = 2\n",
    "\n",
    "    def display_values(self):\n",
    "        print(self.__num1, self.num2)\n",
    "class Y(X):\n",
    "    def __init__(self):\n",
    "        super().__init__()\n",
    "        self.__num1 = 1\n",
    "        self.num2 = 6 \n",
    "obj = Y()\n",
    "obj.display_values()"
   ]
  },
  {
   "cell_type": "markdown",
   "id": "fa772866-1938-47c5-ad26-a799518fb7c3",
   "metadata": {},
   "source": [
    "# PYTHON OOPS"
   ]
  },
  {
   "cell_type": "markdown",
   "id": "e81f5199-fe65-40c3-adcd-f52f025344d6",
   "metadata": {},
   "source": [
    "Create a Bus child class that inherits from the Vehicle class.<BR>\n",
    "The default fare charge of any vehicle is seating capacity * 100. <BR>\n",
    "If Vehicle is Bus instance, we need to add an extra 10% on full fare as a maintenance charge. So total fare for bus instance will become the final amount = total fare + 10% of the total fare.<br>\n",
    "\n",
    "Note: The bus seating capacity is 50. so the final fare amount should be 5500. You need to override the fare() method of a Vehicle class in Bus class.<br>\n",
    "\n",
    "Use the following code for your parent Vehicle class. We need to access the parent class from inside a method of a child class."
   ]
  },
  {
   "cell_type": "code",
   "execution_count": 31,
   "id": "fd3ef120-c769-408f-8632-26bd3022bf0b",
   "metadata": {},
   "outputs": [
    {
     "name": "stdout",
     "output_type": "stream",
     "text": [
      "Total Bus fare is: 5000\n"
     ]
    }
   ],
   "source": [
    "class Vehicle:\n",
    "    def __init__(self, name, mileage, capacity):\n",
    "        self.name = name\n",
    "        self.mileage = mileage\n",
    "        self.capacity = capacity\n",
    "\n",
    "    def fare(self):\n",
    "        return self.capacity * 100\n",
    "\n",
    "class Bus(Vehicle):\n",
    "    pass\n",
    "\n",
    "School_bus = Bus(\"School Volvo\", 12, 50)\n",
    "print(\"Total Bus fare is:\", School_bus.fare())"
   ]
  },
  {
   "cell_type": "code",
   "execution_count": 33,
   "id": "97603b1f-2037-4313-841a-b3fb630f0751",
   "metadata": {},
   "outputs": [
    {
     "name": "stdout",
     "output_type": "stream",
     "text": [
      "<class '__main__.Bus'>\n"
     ]
    }
   ],
   "source": [
    "#Write a program to determine which class a given Bus object belongs to.\n",
    "class Vehicle:\n",
    "    def __init__(self, name, mileage, capacity):\n",
    "        self.name = name\n",
    "        self.mileage = mileage\n",
    "        self.capacity = capacity\n",
    "\n",
    "class Bus(Vehicle):\n",
    "    pass\n",
    "\n",
    "School_bus = Bus(\"School Volvo\", 12, 50)\n",
    "\n",
    "print(type(School_bus))"
   ]
  },
  {
   "cell_type": "code",
   "execution_count": 34,
   "id": "c08ba9ce-a9c6-422e-bd04-ea35fe4ed815",
   "metadata": {},
   "outputs": [
    {
     "name": "stdout",
     "output_type": "stream",
     "text": [
      "True\n"
     ]
    }
   ],
   "source": [
    "# Determine if School_bus is also an instance of the Vehicle class\n",
    "class Vehicle:\n",
    "    def __init__(self, name, mileage, capacity):\n",
    "        self.name = name\n",
    "        self.mileage = mileage\n",
    "        self.capacity = capacity\n",
    "\n",
    "class Bus(Vehicle):\n",
    "    pass\n",
    "\n",
    "School_bus = Bus(\"School Volvo\", 12, 50)\n",
    "\n",
    "# Python's built-in isinstance() function\n",
    "print(isinstance(School_bus, Vehicle))"
   ]
  },
  {
   "cell_type": "markdown",
   "id": "b0a8bbca-d03f-4eb3-9d5c-0b3cad320f95",
   "metadata": {},
   "source": [
    "# Python Matplotlib\n",
    "Matplotlib is a Python 2D plotting library that produces high-quality charts and figures, which helps us visualize extensive data to understand better. Pandas is a handy and useful data-structure tool for analyzing large and complex data."
   ]
  },
  {
   "cell_type": "code",
   "execution_count": 36,
   "id": "753e18af-95d8-4c8e-b7fc-949f0cb9e3a5",
   "metadata": {},
   "outputs": [
    {
     "name": "stdout",
     "output_type": "stream",
     "text": [
      "Collecting matplotlib\n",
      "  Downloading matplotlib-3.7.1-cp38-cp38-win_amd64.whl (7.6 MB)\n",
      "     ---------------------------------------- 7.6/7.6 MB 11.4 MB/s eta 0:00:00\n",
      "Requirement already satisfied: importlib-resources>=3.2.0 in c:\\users\\inpunprap\\.conda\\envs\\codingquestions\\lib\\site-packages (from matplotlib) (5.10.1)\n",
      "Requirement already satisfied: packaging>=20.0 in c:\\users\\inpunprap\\.conda\\envs\\codingquestions\\lib\\site-packages (from matplotlib) (22.0)\n",
      "Collecting pyparsing>=2.3.1\n",
      "  Using cached pyparsing-3.0.9-py3-none-any.whl (98 kB)\n",
      "Collecting contourpy>=1.0.1\n",
      "  Downloading contourpy-1.0.7-cp38-cp38-win_amd64.whl (162 kB)\n",
      "     -------------------------------------- 163.0/163.0 kB 9.5 MB/s eta 0:00:00\n",
      "Collecting cycler>=0.10\n",
      "  Using cached cycler-0.11.0-py3-none-any.whl (6.4 kB)\n",
      "Collecting pillow>=6.2.0\n",
      "  Downloading Pillow-9.4.0-cp38-cp38-win_amd64.whl (2.5 MB)\n",
      "     ---------------------------------------- 2.5/2.5 MB 13.3 MB/s eta 0:00:00\n",
      "Requirement already satisfied: numpy>=1.20 in c:\\users\\inpunprap\\.conda\\envs\\codingquestions\\lib\\site-packages (from matplotlib) (1.24.2)\n",
      "Requirement already satisfied: python-dateutil>=2.7 in c:\\users\\inpunprap\\.conda\\envs\\codingquestions\\lib\\site-packages (from matplotlib) (2.8.2)\n",
      "Collecting fonttools>=4.22.0\n",
      "  Downloading fonttools-4.39.0-py3-none-any.whl (1.0 MB)\n",
      "     ---------------------------------------- 1.0/1.0 MB 10.6 MB/s eta 0:00:00\n",
      "Collecting kiwisolver>=1.0.1\n",
      "  Using cached kiwisolver-1.4.4-cp38-cp38-win_amd64.whl (55 kB)\n",
      "Requirement already satisfied: zipp>=3.1.0 in c:\\users\\inpunprap\\.conda\\envs\\codingquestions\\lib\\site-packages (from importlib-resources>=3.2.0->matplotlib) (3.11.0)\n",
      "Requirement already satisfied: six>=1.5 in c:\\users\\inpunprap\\.conda\\envs\\codingquestions\\lib\\site-packages (from python-dateutil>=2.7->matplotlib) (1.16.0)\n",
      "Installing collected packages: pyparsing, pillow, kiwisolver, fonttools, cycler, contourpy, matplotlib\n",
      "Successfully installed contourpy-1.0.7 cycler-0.11.0 fonttools-4.39.0 kiwisolver-1.4.4 matplotlib-3.7.1 pillow-9.4.0 pyparsing-3.0.9\n",
      "Note: you may need to restart the kernel to use updated packages.\n"
     ]
    },
    {
     "name": "stderr",
     "output_type": "stream",
     "text": [
      "ERROR: pip's dependency resolver does not currently take into account all the packages that are installed. This behaviour is the source of the following dependency conflicts.\n",
      "tensorflow-object-detection-api 0.1.1 requires contextlib2, which is not installed.\n",
      "tensorflow-object-detection-api 0.1.1 requires Cython>=0.28.1, which is not installed.\n",
      "tensorflow-object-detection-api 0.1.1 requires jupyter, which is not installed.\n",
      "tensorflow-object-detection-api 0.1.1 requires lxml, which is not installed.\n",
      "tensorflow-object-detection-api 0.1.1 requires Protobuf, which is not installed.\n",
      "tensorflow-object-detection-api 0.1.1 requires tensorflow, which is not installed.\n"
     ]
    }
   ],
   "source": [
    "pip install matplotlib"
   ]
  },
  {
   "cell_type": "code",
   "execution_count": 39,
   "id": "352e2ad5-679d-4dce-b130-4aacab27bf67",
   "metadata": {},
   "outputs": [
    {
     "data": {
      "image/png": "[encoded data removed]",
      "text/plain": [
       "<Figure size 640x480 with 1 Axes>"
      ]
     },
     "metadata": {},
     "output_type": "display_data"
    }
   ],
   "source": [
    "#Read Total profit of all months and show it using a line plot\n",
    "import pandas as pd\n",
    "import matplotlib.pyplot as plt  \n",
    "\n",
    "df = pd.read_csv(r\"C:\\Users\\INPUNPRAP\\OneDrive - Sandvik\\Desktop\\Coding Questions\\company_sales_data.csv\")\n",
    "profitList = df ['total_profit'].tolist()\n",
    "monthList  = df ['month_number'].tolist()\n",
    "plt.plot(monthList, profitList, label = 'Month-wise Profit data of last year')\n",
    "plt.xlabel('Month number')\n",
    "plt.ylabel('Profit in dollar')\n",
    "plt.xticks(monthList)\n",
    "plt.title('Company profit per month')\n",
    "plt.yticks([100000, 200000, 300000, 400000, 500000])\n",
    "plt.show()"
   ]
  },
  {
   "cell_type": "code",
   "execution_count": 41,
   "id": "b6cc2307-87e2-4872-bcdd-f5612ee4ef65",
   "metadata": {},
   "outputs": [
    {
     "data": {
      "image/png": "[encoded data removed]",
      "text/plain": [
       "<Figure size 640x480 with 1 Axes>"
      ]
     },
     "metadata": {},
     "output_type": "display_data"
    }
   ],
   "source": [
    "# Get total profit of all months and show line plot with the following Style properties\n",
    "import pandas as pd\n",
    "import matplotlib.pyplot as plt  \n",
    "\n",
    "df = pd.read_csv(r\"C:\\Users\\INPUNPRAP\\OneDrive - Sandvik\\Desktop\\Coding Questions\\company_sales_data.csv\")\n",
    "profitList = df ['total_profit'].tolist()\n",
    "monthList  = df ['month_number'].tolist()\n",
    "\n",
    "plt.plot(monthList, profitList, label = 'Profit data of last year', \n",
    "      color='r', marker='o', markerfacecolor='k', \n",
    "      linestyle='--', linewidth=3)\n",
    "      \n",
    "plt.xlabel('Month Number')\n",
    "plt.ylabel('Profit in dollar')\n",
    "plt.legend(loc='lower right')\n",
    "plt.title('Company Sales data of last year')\n",
    "plt.xticks(monthList)\n",
    "plt.yticks([100000, 200000, 300000, 400000, 500000])\n",
    "plt.show()"
   ]
  },
  {
   "cell_type": "code",
   "execution_count": 42,
   "id": "25120e10-9426-4c0a-9c4d-2f5c3ed3e133",
   "metadata": {},
   "outputs": [
    {
     "data": {
      "image/png": "[encoded data removed]",
      "text/plain": [
       "<Figure size 640x480 with 1 Axes>"
      ]
     },
     "metadata": {},
     "output_type": "display_data"
    }
   ],
   "source": [
    "# Read all product sales data and show it  using a multiline plot\n",
    "import pandas as pd\n",
    "import matplotlib.pyplot as plt  \n",
    "\n",
    "df = pd.read_csv(r\"C:\\Users\\INPUNPRAP\\OneDrive - Sandvik\\Desktop\\Coding Questions\\company_sales_data.csv\")\n",
    "monthList  = df ['month_number'].tolist()\n",
    "faceCremSalesData   = df ['facecream'].tolist()\n",
    "faceWashSalesData   = df ['facewash'].tolist()\n",
    "toothPasteSalesData = df ['toothpaste'].tolist()\n",
    "bathingsoapSalesData   = df ['bathingsoap'].tolist()\n",
    "shampooSalesData   = df ['shampoo'].tolist()\n",
    "moisturizerSalesData = df ['moisturizer'].tolist()\n",
    "\n",
    "plt.plot(monthList, faceCremSalesData,   label = 'Face cream Sales Data', marker='o', linewidth=3)\n",
    "plt.plot(monthList, faceWashSalesData,   label = 'Face Wash Sales Data',  marker='o', linewidth=3)\n",
    "plt.plot(monthList, toothPasteSalesData, label = 'ToothPaste Sales Data', marker='o', linewidth=3)\n",
    "plt.plot(monthList, bathingsoapSalesData, label = 'ToothPaste Sales Data', marker='o', linewidth=3)\n",
    "plt.plot(monthList, shampooSalesData, label = 'ToothPaste Sales Data', marker='o', linewidth=3)\n",
    "plt.plot(monthList, moisturizerSalesData, label = 'ToothPaste Sales Data', marker='o', linewidth=3)\n",
    "\n",
    "plt.xlabel('Month Number')\n",
    "plt.ylabel('Sales units in number')\n",
    "plt.legend(loc='upper left')\n",
    "plt.xticks(monthList)\n",
    "plt.yticks([1000, 2000, 4000, 6000, 8000, 10000, 12000, 15000, 18000])\n",
    "plt.title('Sales data')\n",
    "plt.show()"
   ]
  },
  {
   "cell_type": "code",
   "execution_count": 43,
   "id": "e6001a24-7ba5-466b-90b9-6ac081704b79",
   "metadata": {},
   "outputs": [
    {
     "data": {
      "image/png": "[encoded data removed]",
      "text/plain": [
       "<Figure size 640x480 with 1 Axes>"
      ]
     },
     "metadata": {},
     "output_type": "display_data"
    }
   ],
   "source": [
    "# Read toothpaste sales data of each month and show it using a scatter plot\n",
    "import pandas as pd\n",
    "import matplotlib.pyplot as plt  \n",
    "\n",
    "df = pd.read_csv(r\"C:\\Users\\INPUNPRAP\\OneDrive - Sandvik\\Desktop\\Coding Questions\\company_sales_data.csv\")\n",
    "monthList  = df ['month_number'].tolist()\n",
    "toothPasteSalesData = df ['toothpaste'].tolist()\n",
    "plt.scatter(monthList, toothPasteSalesData, label = 'Tooth paste Sales data')\n",
    "plt.xlabel('Month Number')\n",
    "plt.ylabel('Number of units Sold')\n",
    "plt.legend(loc='upper left')\n",
    "plt.title(' Tooth paste Sales data')\n",
    "plt.xticks(monthList)\n",
    "plt.grid(True, linewidth= 1, linestyle=\"--\")\n",
    "plt.show()"
   ]
  },
  {
   "cell_type": "code",
   "execution_count": 44,
   "id": "a322cffb-a1d3-4331-bf11-8abfc8d66b3d",
   "metadata": {},
   "outputs": [
    {
     "data": {
      "image/png": "[encoded data removed]",
      "text/plain": [
       "<Figure size 640x480 with 1 Axes>"
      ]
     },
     "metadata": {},
     "output_type": "display_data"
    }
   ],
   "source": [
    "# Read face cream and facewash product sales data and show it using the bar chart\n",
    "import pandas as pd\n",
    "import matplotlib.pyplot as plt  \n",
    "\n",
    "df = pd.read_csv(r\"C:\\Users\\INPUNPRAP\\OneDrive - Sandvik\\Desktop\\Coding Questions\\company_sales_data.csv\")\n",
    "monthList  = df ['month_number'].tolist()\n",
    "faceCremSalesData   = df ['facecream'].tolist()\n",
    "faceWashSalesData   = df ['facewash'].tolist()\n",
    "\n",
    "plt.bar([a-0.25 for a in monthList], faceCremSalesData, width= 0.25, label = 'Face Cream sales data', align='edge')\n",
    "plt.bar([a+0.25 for a in monthList], faceWashSalesData, width= -0.25, label = 'Face Wash sales data', align='edge')\n",
    "plt.xlabel('Month Number')\n",
    "plt.ylabel('Sales units in number')\n",
    "plt.legend(loc='upper left')\n",
    "plt.title(' Sales data')\n",
    "\n",
    "plt.xticks(monthList)\n",
    "plt.grid(True, linewidth= 1, linestyle=\"--\")\n",
    "plt.title('Facewash and facecream sales data')\n",
    "plt.show()"
   ]
  },
  {
   "cell_type": "code",
   "execution_count": 45,
   "id": "08e0baa1-6d23-4c8a-b8f2-55b9a2df90eb",
   "metadata": {},
   "outputs": [
    {
     "data": {
      "image/png": "[encoded data removed]",
      "text/plain": [
       "<Figure size 640x480 with 1 Axes>"
      ]
     },
     "metadata": {},
     "output_type": "display_data"
    }
   ],
   "source": [
    "# Calculate total sale data for last year for each product and show it using a Pie chart\n",
    "import pandas as pd\n",
    "import matplotlib.pyplot as plt  \n",
    "\n",
    "df = pd.read_csv(r\"C:\\Users\\INPUNPRAP\\OneDrive - Sandvik\\Desktop\\Coding Questions\\company_sales_data.csv\")\n",
    "monthList  = df ['month_number'].tolist()\n",
    "\n",
    "labels = ['FaceCream', 'FaseWash', 'ToothPaste', 'Bathing soap', 'Shampoo', 'Moisturizer']\n",
    "salesData   = [df ['facecream'].sum(), df ['facewash'].sum(), df ['toothpaste'].sum(), \n",
    "         df ['bathingsoap'].sum(), df ['shampoo'].sum(), df ['moisturizer'].sum()]\n",
    "plt.axis(\"equal\")\n",
    "plt.pie(salesData, labels=labels, autopct='%1.1f%%')\n",
    "plt.legend(loc='lower right')\n",
    "plt.title('Sales data')\n",
    "plt.show()"
   ]
  },
  {
   "cell_type": "code",
   "execution_count": null,
   "id": "22292231-c7fd-40a1-868f-bf183360dde0",
   "metadata": {},
   "outputs": [],
   "source": []
  },
  {
   "cell_type": "code",
   "execution_count": null,
   "id": "d99372f8-dc86-4b09-8247-9f0b31cec8d1",
   "metadata": {},
   "outputs": [],
   "source": []
  },
  {
   "cell_type": "code",
   "execution_count": null,
   "id": "bf141855-38ad-4327-86ea-ef08edf741cf",
   "metadata": {},
   "outputs": [],
   "source": []
  },
  {
   "cell_type": "markdown",
   "id": "53a5ac24-e573-4bc5-b4c9-ce694ca4a274",
   "metadata": {},
   "source": [
    "# __name__ == '__main__'"
   ]
  },
  {
   "cell_type": "markdown",
   "id": "956edd3c-b9ed-4810-85c3-df5e0cf8febe",
   "metadata": {},
   "source": [
    "# Scenario 1 - Run the script"
   ]
  },
  {
   "cell_type": "code",
   "execution_count": 2,
   "id": "8c3debbe",
   "metadata": {},
   "outputs": [],
   "source": [
    "def myFunction():    \n",
    "    print ('The value of __name__ is ' + __name__)"
   ]
  },
  {
   "cell_type": "code",
   "execution_count": 3,
   "id": "33347169",
   "metadata": {},
   "outputs": [],
   "source": [
    "def main():\n",
    "    myFunction()"
   ]
  },
  {
   "cell_type": "code",
   "execution_count": 4,
   "id": "ec86fcf4",
   "metadata": {},
   "outputs": [
    {
     "name": "stdout",
     "output_type": "stream",
     "text": [
      "The value of __name__ is __main__\n"
     ]
    }
   ],
   "source": [
    "if __name__ == '__main__':    \n",
    "      main()"
   ]
  },
  {
   "cell_type": "markdown",
   "id": "2e463de3-eadd-450f-8563-1d0422407aac",
   "metadata": {},
   "source": [
    "Scenario 2 - Import the script in another script"
   ]
  },
  {
   "cell_type": "markdown",
   "id": "831b501e-a1e5-4cc5-bcf9-6131914ae255",
   "metadata": {},
   "source": [
    "refer file1.py & file2.py for __name ==\"__main__\""
   ]
  },
  {
   "cell_type": "markdown",
   "id": "4e4184bd-72f2-418d-92a1-5400dc043957",
   "metadata": {},
   "source": [
    " List,Tuple,Dictionary,Class,Function,How to handle string,How to handle data in array,\t• How it works(code basic syntax variable , list, string, tuple, sets, dictionary\n",
    "\t• Function, exception handling codes\n",
    "\t• Oops concepts\n",
    "\t• Learn library (numpy :- understand, import, how perform basic operation (reshaping, broadcasting, indexing techniques properly, inbuilt function inside array )\n",
    "\t• Pandas depth learn:- dataphrame, dataseries etc, feature engg., Missing values etc\n",
    "\t\n",
    "\tWeb scraping:-\n",
    "\t• Beautiful soap\n",
    "\t• Scrapy\n",
    "\t• Urllib\n",
    "\n",
    "python function\n",
    "Python OOPS\n",
    "python decorator\n",
    "Exception handelling\n",
    "file handelling \n",
    "python regex\n",
    "python numpy\n",
    "pandas\n",
    "django\n",
    "json\n",
    "data visualization\n",
    "\n",
    "1) how to save value coming from loop in-order to use afterwords.\n"
   ]
  },
  {
   "cell_type": "code",
   "execution_count": 2,
   "id": "9b1a04e9-f8f2-4712-9ece-01e23ea97232",
   "metadata": {},
   "outputs": [
    {
     "name": "stdin",
     "output_type": "stream",
     "text": [
      "How many lists do you want?  5\n"
     ]
    },
    {
     "name": "stdout",
     "output_type": "stream",
     "text": [
      "[0, 1, 2, 3, 4]\n"
     ]
    }
   ],
   "source": [
    "# how to save value coming from loop in-order to use afterwords.\n",
    "num_lists = int(input(\"How many lists do you want? \"))\n",
    "lists = []\n",
    "for p in range(num_lists):\n",
    "    lists.append(p)\n",
    "print(lists)"
   ]
  },
  {
   "cell_type": "markdown",
   "id": "e7e3b64c-7db7-46fa-acb7-aa97588564cc",
   "metadata": {},
   "source": [
    "# Web scraping:- Beautiful soup, Scrapy, Urllib"
   ]
  },
  {
   "cell_type": "code",
   "execution_count": 5,
   "id": "832fe278-8eee-4bf0-9cf8-d9aed065ac5f",
   "metadata": {},
   "outputs": [
    {
     "name": "stdout",
     "output_type": "stream",
     "text": [
      "Requirement already satisfied: requests in c:\\users\\inpunprap\\.conda\\envs\\codingquestions\\lib\\site-packages (2.28.1)\n",
      "Requirement already satisfied: charset-normalizer<3,>=2 in c:\\users\\inpunprap\\.conda\\envs\\codingquestions\\lib\\site-packages (from requests) (2.1.1)\n",
      "Requirement already satisfied: certifi>=2017.4.17 in c:\\users\\inpunprap\\.conda\\envs\\codingquestions\\lib\\site-packages (from requests) (2022.12.7)\n",
      "Requirement already satisfied: idna<4,>=2.5 in c:\\users\\inpunprap\\.conda\\envs\\codingquestions\\lib\\site-packages (from requests) (3.4)\n",
      "Requirement already satisfied: urllib3<1.27,>=1.21.1 in c:\\users\\inpunprap\\.conda\\envs\\codingquestions\\lib\\site-packages (from requests) (1.26.13)\n"
     ]
    }
   ],
   "source": [
    "# setting up environment:\n",
    "!pip install requests"
   ]
  },
  {
   "cell_type": "code",
   "execution_count": 6,
   "id": "c89f5e6b-50fe-4599-98f6-45b5136f3da0",
   "metadata": {},
   "outputs": [
    {
     "name": "stdout",
     "output_type": "stream",
     "text": [
      "Collecting html5lib\n",
      "  Downloading html5lib-1.1-py2.py3-none-any.whl (112 kB)\n",
      "     -------------------------------------- 112.2/112.2 kB 1.3 MB/s eta 0:00:00\n",
      "Requirement already satisfied: six>=1.9 in c:\\users\\inpunprap\\.conda\\envs\\codingquestions\\lib\\site-packages (from html5lib) (1.16.0)\n",
      "Requirement already satisfied: webencodings in c:\\users\\inpunprap\\.conda\\envs\\codingquestions\\lib\\site-packages (from html5lib) (0.5.1)\n",
      "Installing collected packages: html5lib\n",
      "Successfully installed html5lib-1.1\n"
     ]
    }
   ],
   "source": [
    "!pip install html5lib"
   ]
  },
  {
   "cell_type": "code",
   "execution_count": 7,
   "id": "7ee4bcdc-4d57-466d-b921-63b012a31573",
   "metadata": {},
   "outputs": [
    {
     "name": "stdout",
     "output_type": "stream",
     "text": [
      "Collecting bs4\n",
      "  Downloading bs4-0.0.1.tar.gz (1.1 kB)\n",
      "  Preparing metadata (setup.py): started\n",
      "  Preparing metadata (setup.py): finished with status 'done'\n",
      "Requirement already satisfied: beautifulsoup4 in c:\\users\\inpunprap\\.conda\\envs\\codingquestions\\lib\\site-packages (from bs4) (4.11.1)\n",
      "Requirement already satisfied: soupsieve>1.2 in c:\\users\\inpunprap\\.conda\\envs\\codingquestions\\lib\\site-packages (from beautifulsoup4->bs4) (2.3.2.post1)\n",
      "Building wheels for collected packages: bs4\n",
      "  Building wheel for bs4 (setup.py): started\n",
      "  Building wheel for bs4 (setup.py): finished with status 'done'\n",
      "  Created wheel for bs4: filename=bs4-0.0.1-py3-none-any.whl size=1264 sha256=3267615f67bc430e851b7baed5aa347775b1193042761da3e741347db107e8b2\n",
      "  Stored in directory: c:\\users\\inpunprap\\appdata\\local\\pip\\cache\\wheels\\ed\\34\\70\\793aad3a97d75912e528af7c5039a198db5d17027f9b7f9a5b\n",
      "Successfully built bs4\n",
      "Installing collected packages: bs4\n",
      "Successfully installed bs4-0.0.1\n"
     ]
    }
   ],
   "source": [
    "!pip install bs4"
   ]
  },
  {
   "cell_type": "code",
   "execution_count": 52,
   "id": "67721f9c-cb14-4529-bd16-1d5d13277db2",
   "metadata": {},
   "outputs": [],
   "source": [
    "url = \"https://codewithharry.com\"\n",
    "r = requests.get(url)\t\t# r variable has all the HTML code\n",
    "htmlContent = r.content\t# r returns response so if we want the code we write r.content\n",
    "#print(htmlContent)\t\t# printing the code"
   ]
  },
  {
   "cell_type": "code",
   "execution_count": 53,
   "id": "069c5dca-b130-4149-b23f-b8723fff6666",
   "metadata": {},
   "outputs": [],
   "source": [
    "# Instead of “content” we can also use “text”:\n",
    "htmlText = r.text\n",
    "#print(htmlText)"
   ]
  },
  {
   "cell_type": "markdown",
   "id": "fee2a554-c447-4459-8db8-359459b021ae",
   "metadata": {},
   "source": [
    "# Boiler plate for this functionality is:"
   ]
  },
  {
   "cell_type": "code",
   "execution_count": 49,
   "id": "db11b7e2-c687-47d6-8c2f-e84508c373d8",
   "metadata": {},
   "outputs": [],
   "source": [
    "import requests\n",
    "from bs4 import BeautifulSoup\n",
    "url = \"https://codewithharry.com\"\n",
    "\n",
    "r = requests.get(url)\n",
    "soup = BeautifulSoup(r.content, 'html.parser')\n",
    "\n",
    "#print(soup.prettify())\t# to print html in tree structure"
   ]
  },
  {
   "cell_type": "markdown",
   "id": "f6ee810f-7030-4db2-9339-f01aec5a704d",
   "metadata": {},
   "source": [
    "# Parsing Data:"
   ]
  },
  {
   "cell_type": "code",
   "execution_count": 14,
   "id": "302d2cc0-126d-4d49-a9cf-d8521e804b2e",
   "metadata": {},
   "outputs": [],
   "source": [
    "soup = BeautifulSoup(htmlContent, 'html.parser')"
   ]
  },
  {
   "cell_type": "markdown",
   "id": "8543001d-e3db-4504-97c8-9a47167bc49c",
   "metadata": {},
   "source": [
    "# HTML Tree Traversal (Targeting Data):"
   ]
  },
  {
   "cell_type": "code",
   "execution_count": 42,
   "id": "a2a7c455-8e71-45e7-b95a-70e5ee8c8590",
   "metadata": {},
   "outputs": [],
   "source": [
    "import requests\n",
    "from bs4 import BeautifulSoup\n",
    "url = \"https://www.codewithharry.com/videos/python-web-scraping-tutorial-in-hindi\"\n",
    "\n",
    "r = requests.get(url)\n",
    "soup = BeautifulSoup(r.content, 'html.parser')\n",
    "for i in soup.find_all(\"code\"):\n",
    "    print(i.text)\n",
    "    # We can also do it like this\n",
    "    print(i.get_text())"
   ]
  },
  {
   "cell_type": "code",
   "execution_count": 16,
   "id": "b6631108-8587-4dc5-a645-f8e78fd3ee09",
   "metadata": {},
   "outputs": [
    {
     "name": "stdout",
     "output_type": "stream",
     "text": [
      "<title>Web Scraping Tutorial using Python and BeautifulSoup | CodeWithHarry</title>\n"
     ]
    }
   ],
   "source": [
    "title = soup.title\n",
    "print(title)"
   ]
  },
  {
   "cell_type": "code",
   "execution_count": 17,
   "id": "b3e29b0e-a976-4c84-b4ea-e3892388a149",
   "metadata": {},
   "outputs": [
    {
     "name": "stdout",
     "output_type": "stream",
     "text": [
      "<p class=\"text-sm text-gray-500 sm:ml-4 sm:pl-4 sm:border-l-2 sm:border-gray-200 sm:py-2 mt-4 md:mt-2 mb-2 md:mb-0 text-center dark:text-gray-400\">Copyright © 2022 CodeWithHarry.com</p>\n"
     ]
    }
   ],
   "source": [
    "# find():\n",
    "print(soup.find('p')) "
   ]
  },
  {
   "cell_type": "code",
   "execution_count": 18,
   "id": "5c76cc48-dd51-4b95-a36f-5650173b3160",
   "metadata": {},
   "outputs": [
    {
     "name": "stdout",
     "output_type": "stream",
     "text": [
      "[<p class=\"text-sm text-gray-500 sm:ml-4 sm:pl-4 sm:border-l-2 sm:border-gray-200 sm:py-2 mt-4 md:mt-2 mb-2 md:mb-0 text-center dark:text-gray-400\">Copyright © 2022 CodeWithHarry.com</p>]\n"
     ]
    }
   ],
   "source": [
    "# find_all():\n",
    "paras = soup.find_all('p')\n",
    "print(paras)"
   ]
  },
  {
   "cell_type": "code",
   "execution_count": 19,
   "id": "c1ebfd42-cd30-4542-8f92-9998cabc1b21",
   "metadata": {},
   "outputs": [
    {
     "name": "stdout",
     "output_type": "stream",
     "text": [
      "<p class=\"text-sm text-gray-500 sm:ml-4 sm:pl-4 sm:border-l-2 sm:border-gray-200 sm:py-2 mt-4 md:mt-2 mb-2 md:mb-0 text-center dark:text-gray-400\">Copyright © 2022 CodeWithHarry.com</p>\n"
     ]
    }
   ],
   "source": [
    "for i in paras:\n",
    "    print(i)"
   ]
  },
  {
   "cell_type": "code",
   "execution_count": 20,
   "id": "9e477eb8-6e31-415b-944b-7a8b835d037e",
   "metadata": {},
   "outputs": [
    {
     "name": "stdout",
     "output_type": "stream",
     "text": [
      "['text-sm', 'text-gray-500', 'sm:ml-4', 'sm:pl-4', 'sm:border-l-2', 'sm:border-gray-200', 'sm:py-2', 'mt-4', 'md:mt-2', 'mb-2', 'md:mb-0', 'text-center', 'dark:text-gray-400']\n"
     ]
    }
   ],
   "source": [
    "# Getting class of an element:\n",
    "print(soup.find('p')['class'])"
   ]
  },
  {
   "cell_type": "code",
   "execution_count": 21,
   "id": "fcc808bf-ba8c-4def-8532-d34ae89ed6af",
   "metadata": {},
   "outputs": [
    {
     "name": "stdout",
     "output_type": "stream",
     "text": [
      "[]\n"
     ]
    }
   ],
   "source": [
    "# Finding elements through class name:\n",
    "print(soup.find_all(\"p\", class_=\"lead\"))"
   ]
  },
  {
   "cell_type": "code",
   "execution_count": 22,
   "id": "5b983833-ea80-4ced-8677-26620e1bfa20",
   "metadata": {},
   "outputs": [
    {
     "name": "stdout",
     "output_type": "stream",
     "text": [
      "[]\n"
     ]
    }
   ],
   "source": [
    "print(soup.find_all(class_=\"code-toolbar\"))"
   ]
  },
  {
   "cell_type": "code",
   "execution_count": 23,
   "id": "fb4837f1-0465-4bc7-854a-b48767a6b5a3",
   "metadata": {},
   "outputs": [
    {
     "name": "stdout",
     "output_type": "stream",
     "text": [
      "None\n"
     ]
    }
   ],
   "source": [
    "# Finding elements through element ID:\n",
    "print(soup.find(id='qna'))"
   ]
  },
  {
   "cell_type": "code",
   "execution_count": 45,
   "id": "fa049cda-3a37-4e3a-b452-ce3452064267",
   "metadata": {},
   "outputs": [
    {
     "ename": "AttributeError",
     "evalue": "'NoneType' object has no attribute 'text'",
     "output_type": "error",
     "traceback": [
      "\u001b[1;31m---------------------------------------------------------------------------\u001b[0m",
      "\u001b[1;31mAttributeError\u001b[0m                            Traceback (most recent call last)",
      "Cell \u001b[1;32mIn[45], line 2\u001b[0m\n\u001b[0;32m      1\u001b[0m \u001b[38;5;66;03m# Getting text from tags(text/get_text()):\u001b[39;00m\n\u001b[1;32m----> 2\u001b[0m \u001b[43msoup\u001b[49m\u001b[38;5;241;43m.\u001b[39;49m\u001b[43mfind\u001b[49m\u001b[43m(\u001b[49m\u001b[38;5;124;43m'\u001b[39;49m\u001b[38;5;124;43melement\u001b[39;49m\u001b[38;5;124;43m'\u001b[39;49m\u001b[43m)\u001b[49m\u001b[38;5;241;43m.\u001b[39;49m\u001b[43mtext\u001b[49m\n",
      "\u001b[1;31mAttributeError\u001b[0m: 'NoneType' object has no attribute 'text'"
     ]
    }
   ],
   "source": [
    "# Getting text from tags(text/get_text()):\n",
    "soup.find('element').text"
   ]
  },
  {
   "cell_type": "code",
   "execution_count": 30,
   "id": "8efdc34a-5f12-4e2e-b77f-33a2f2d0b802",
   "metadata": {},
   "outputs": [],
   "source": [
    "# Getting all the links:\n",
    "anchors = soup.find_all('a')"
   ]
  },
  {
   "cell_type": "code",
   "execution_count": 32,
   "id": "0679fdc3-e702-48d1-a3bf-6777656829aa",
   "metadata": {},
   "outputs": [
    {
     "name": "stdout",
     "output_type": "stream",
     "text": [
      "None\n"
     ]
    }
   ],
   "source": [
    "for i in paras:\n",
    "    print(i.get('href'))"
   ]
  },
  {
   "cell_type": "code",
   "execution_count": 33,
   "id": "96dddc3b-a4e2-4236-87e9-abe66c6906f4",
   "metadata": {},
   "outputs": [
    {
     "name": "stdout",
     "output_type": "stream",
     "text": [
      "[<div class=\"search-icon cursor-pointer px-6 hidden\" id=\"search-toggle\"><svg class=\"fill-current pointer-events-none text-grey-darkest w-4 h-4 inline\" viewbox=\"0 0 20 20\" xmlns=\"http://www.w3.org/2000/svg\"><path d=\"M12.9 14.32a8 8 0 1 1 1.41-1.41l5.35 5.33-1.42 1.42-5.33-5.34zM8 14A6 6 0 1 0 8 2a6 6 0 0 0 0 12z\"></path></svg></div>, <li class=\"mx-2 my-2 text-black hover:border-b-2 hover:border-purple-700 dark:text-white\"><a href=\"/\">Home</a></li>, <li class=\"mx-2 my-2 text-black hover:border-b-2 hover:border-purple-700 dark:text-white\"><a href=\"/videos/\">Courses</a></li>, <li class=\"mx-2 my-2 text-black hover:border-b-2 hover:border-purple-700 dark:text-white\"><a href=\"/tutorials/\">Tutorial</a></li>, <li class=\"mx-2 my-2 text-black hover:border-b-2 hover:border-purple-700 dark:text-white\"><a href=\"/blog/\">Blog</a></li>, <li class=\"mx-2 my-2 text-black hover:border-b-2 hover:border-purple-700 dark:text-white\"><a href=\"/notes/\">Notes</a></li>, <li class=\"mx-2 my-2 text-black hover:border-b-2 hover:border-purple-700 dark:text-white\"><a href=\"/contact/\">Contact</a></li>, <li class=\"mx-2 my-2 text-black hover:border-b-2 hover:border-purple-700 dark:text-white\"><a href=\"/my-gear/\">My Gear</a></li>, <li class=\"mx-2 my-2 text-black hover:border-b-2 hover:border-purple-700 dark:text-white\"><a href=\"/work/\">Work With Us</a></li>, <li><svg class=\"hidden md:block text-purple-700 mt-1 ml-2 cursor-pointer dark:text-white\" fill=\"currentColor\" height=\"28\" stroke=\"currentColor\" stroke-width=\"0\" viewbox=\"0 0 16 16\" width=\"28\" xmlns=\"http://www.w3.org/2000/svg\"><path d=\"M6 .278a.768.768 0 0 1 .08.858 7.208 7.208 0 0 0-.878 3.46c0 4.021 3.278 7.277 7.318 7.277.527 0 1.04-.055 1.533-.16a.787.787 0 0 1 .81.316.733.733 0 0 1-.031.893A8.349 8.349 0 0 1 8.344 16C3.734 16 0 12.286 0 7.71 0 4.266 2.114 1.312 5.124.06A.752.752 0 0 1 6 .278z\"></path><path d=\"M10.794 3.148a.217.217 0 0 1 .412 0l.387 1.162c.173.518.579.924 1.097 1.097l1.162.387a.217.217 0 0 1 0 .412l-1.162.387a1.734 1.734 0 0 0-1.097 1.097l-.387 1.162a.217.217 0 0 1-.412 0l-.387-1.162A1.734 1.734 0 0 0 9.31 6.593l-1.162-.387a.217.217 0 0 1 0-.412l1.162-.387a1.734 1.734 0 0 0 1.097-1.097l.387-1.162zM13.863.099a.145.145 0 0 1 .274 0l.258.774c.115.346.386.617.732.732l.774.258a.145.145 0 0 1 0 .274l-.774.258a1.156 1.156 0 0 0-.732.732l-.258.774a.145.145 0 0 1-.274 0l-.258-.774a1.156 1.156 0 0 0-.732-.732l-.774-.258a.145.145 0 0 1 0-.274l.774-.258c.346-.115.617-.386.732-.732L13.863.1z\"></path></svg></li>]\n"
     ]
    }
   ],
   "source": [
    "# CONTENTS\n",
    "ul = soup.find(\"ul\")\n",
    "print(ul.contents)"
   ]
  },
  {
   "cell_type": "code",
   "execution_count": 34,
   "id": "1ce26bd0-a8b5-42b0-aace-856ad8d35774",
   "metadata": {},
   "outputs": [
    {
     "name": "stdout",
     "output_type": "stream",
     "text": [
      "<div class=\"search-icon cursor-pointer px-6 hidden\" id=\"search-toggle\"><svg class=\"fill-current pointer-events-none text-grey-darkest w-4 h-4 inline\" viewbox=\"0 0 20 20\" xmlns=\"http://www.w3.org/2000/svg\"><path d=\"M12.9 14.32a8 8 0 1 1 1.41-1.41l5.35 5.33-1.42 1.42-5.33-5.34zM8 14A6 6 0 1 0 8 2a6 6 0 0 0 0 12z\"></path></svg></div>\n",
      "<li class=\"mx-2 my-2 text-black hover:border-b-2 hover:border-purple-700 dark:text-white\"><a href=\"/\">Home</a></li>\n",
      "<li class=\"mx-2 my-2 text-black hover:border-b-2 hover:border-purple-700 dark:text-white\"><a href=\"/videos/\">Courses</a></li>\n",
      "<li class=\"mx-2 my-2 text-black hover:border-b-2 hover:border-purple-700 dark:text-white\"><a href=\"/tutorials/\">Tutorial</a></li>\n",
      "<li class=\"mx-2 my-2 text-black hover:border-b-2 hover:border-purple-700 dark:text-white\"><a href=\"/blog/\">Blog</a></li>\n",
      "<li class=\"mx-2 my-2 text-black hover:border-b-2 hover:border-purple-700 dark:text-white\"><a href=\"/notes/\">Notes</a></li>\n",
      "<li class=\"mx-2 my-2 text-black hover:border-b-2 hover:border-purple-700 dark:text-white\"><a href=\"/contact/\">Contact</a></li>\n",
      "<li class=\"mx-2 my-2 text-black hover:border-b-2 hover:border-purple-700 dark:text-white\"><a href=\"/my-gear/\">My Gear</a></li>\n",
      "<li class=\"mx-2 my-2 text-black hover:border-b-2 hover:border-purple-700 dark:text-white\"><a href=\"/work/\">Work With Us</a></li>\n",
      "<li><svg class=\"hidden md:block text-purple-700 mt-1 ml-2 cursor-pointer dark:text-white\" fill=\"currentColor\" height=\"28\" stroke=\"currentColor\" stroke-width=\"0\" viewbox=\"0 0 16 16\" width=\"28\" xmlns=\"http://www.w3.org/2000/svg\"><path d=\"M6 .278a.768.768 0 0 1 .08.858 7.208 7.208 0 0 0-.878 3.46c0 4.021 3.278 7.277 7.318 7.277.527 0 1.04-.055 1.533-.16a.787.787 0 0 1 .81.316.733.733 0 0 1-.031.893A8.349 8.349 0 0 1 8.344 16C3.734 16 0 12.286 0 7.71 0 4.266 2.114 1.312 5.124.06A.752.752 0 0 1 6 .278z\"></path><path d=\"M10.794 3.148a.217.217 0 0 1 .412 0l.387 1.162c.173.518.579.924 1.097 1.097l1.162.387a.217.217 0 0 1 0 .412l-1.162.387a1.734 1.734 0 0 0-1.097 1.097l-.387 1.162a.217.217 0 0 1-.412 0l-.387-1.162A1.734 1.734 0 0 0 9.31 6.593l-1.162-.387a.217.217 0 0 1 0-.412l1.162-.387a1.734 1.734 0 0 0 1.097-1.097l.387-1.162zM13.863.099a.145.145 0 0 1 .274 0l.258.774c.115.346.386.617.732.732l.774.258a.145.145 0 0 1 0 .274l-.774.258a1.156 1.156 0 0 0-.732.732l-.258.774a.145.145 0 0 1-.274 0l-.258-.774a1.156 1.156 0 0 0-.732-.732l-.774-.258a.145.145 0 0 1 0-.274l.774-.258c.346-.115.617-.386.732-.732L13.863.1z\"></path></svg></li>\n"
     ]
    }
   ],
   "source": [
    "#  Children:\n",
    "ul = soup.find(\"ul\")\n",
    "for i in ul.children:\n",
    "\tprint(i)"
   ]
  },
  {
   "cell_type": "code",
   "execution_count": 35,
   "id": "ce992fe4-a7ed-454a-80b9-d07681a6297b",
   "metadata": {},
   "outputs": [
    {
     "name": "stdout",
     "output_type": "stream",
     "text": [
      "<div class=\"w-full flex-grow lg:flex lg:flex-1 lg:content-center lg:justify-end lg:w-auto h-0 lg:h-auto overflow-hidden mt-2 lg:mt-0 z-20 transition-all\" id=\"nav-content\"><ul class=\"flex items-center flex-col lg:flex-row\"><div class=\"search-icon cursor-pointer px-6 hidden\" id=\"search-toggle\"><svg class=\"fill-current pointer-events-none text-grey-darkest w-4 h-4 inline\" viewbox=\"0 0 20 20\" xmlns=\"http://www.w3.org/2000/svg\"><path d=\"M12.9 14.32a8 8 0 1 1 1.41-1.41l5.35 5.33-1.42 1.42-5.33-5.34zM8 14A6 6 0 1 0 8 2a6 6 0 0 0 0 12z\"></path></svg></div><li class=\"mx-2 my-2 text-black hover:border-b-2 hover:border-purple-700 dark:text-white\"><a href=\"/\">Home</a></li><li class=\"mx-2 my-2 text-black hover:border-b-2 hover:border-purple-700 dark:text-white\"><a href=\"/videos/\">Courses</a></li><li class=\"mx-2 my-2 text-black hover:border-b-2 hover:border-purple-700 dark:text-white\"><a href=\"/tutorials/\">Tutorial</a></li><li class=\"mx-2 my-2 text-black hover:border-b-2 hover:border-purple-700 dark:text-white\"><a href=\"/blog/\">Blog</a></li><li class=\"mx-2 my-2 text-black hover:border-b-2 hover:border-purple-700 dark:text-white\"><a href=\"/notes/\">Notes</a></li><li class=\"mx-2 my-2 text-black hover:border-b-2 hover:border-purple-700 dark:text-white\"><a href=\"/contact/\">Contact</a></li><li class=\"mx-2 my-2 text-black hover:border-b-2 hover:border-purple-700 dark:text-white\"><a href=\"/my-gear/\">My Gear</a></li><li class=\"mx-2 my-2 text-black hover:border-b-2 hover:border-purple-700 dark:text-white\"><a href=\"/work/\">Work With Us</a></li><li><svg class=\"hidden md:block text-purple-700 mt-1 ml-2 cursor-pointer dark:text-white\" fill=\"currentColor\" height=\"28\" stroke=\"currentColor\" stroke-width=\"0\" viewbox=\"0 0 16 16\" width=\"28\" xmlns=\"http://www.w3.org/2000/svg\"><path d=\"M6 .278a.768.768 0 0 1 .08.858 7.208 7.208 0 0 0-.878 3.46c0 4.021 3.278 7.277 7.318 7.277.527 0 1.04-.055 1.533-.16a.787.787 0 0 1 .81.316.733.733 0 0 1-.031.893A8.349 8.349 0 0 1 8.344 16C3.734 16 0 12.286 0 7.71 0 4.266 2.114 1.312 5.124.06A.752.752 0 0 1 6 .278z\"></path><path d=\"M10.794 3.148a.217.217 0 0 1 .412 0l.387 1.162c.173.518.579.924 1.097 1.097l1.162.387a.217.217 0 0 1 0 .412l-1.162.387a1.734 1.734 0 0 0-1.097 1.097l-.387 1.162a.217.217 0 0 1-.412 0l-.387-1.162A1.734 1.734 0 0 0 9.31 6.593l-1.162-.387a.217.217 0 0 1 0-.412l1.162-.387a1.734 1.734 0 0 0 1.097-1.097l.387-1.162zM13.863.099a.145.145 0 0 1 .274 0l.258.774c.115.346.386.617.732.732l.774.258a.145.145 0 0 1 0 .274l-.774.258a1.156 1.156 0 0 0-.732.732l-.258.774a.145.145 0 0 1-.274 0l-.258-.774a1.156 1.156 0 0 0-.732-.732l-.774-.258a.145.145 0 0 1 0-.274l.774-.258c.346-.115.617-.386.732-.732L13.863.1z\"></path></svg></li></ul><div class=\"text-center my-2 pr-4 pl-2\"><button class=\"text-white bg-purple-700 hover:bg-purple-800 focus:ring-4 focus:ring-purple-300 font-medium rounded-lg text-sm px-3 py-2 text-center inline-flex items-center mx-1 dark:bg-purple-500 dark:hover:bg-purple-800\">Login</button><button class=\"text-white bg-purple-700 hover:bg-purple-800 focus:ring-4 focus:ring-purple-300 font-medium rounded-lg text-sm px-3 py-2 text-center inline-flex items-center mx-1 dark:bg-purple-500 dark:hover:bg-purple-800\">Signup</button></div></div>\n"
     ]
    }
   ],
   "source": [
    "# Parent:\n",
    "ul = soup.find(\"ul\")\n",
    "print(ul.parent)"
   ]
  },
  {
   "cell_type": "code",
   "execution_count": 50,
   "id": "3bd3de48-0d87-4bed-a23e-24fe9c5c9c5d",
   "metadata": {},
   "outputs": [],
   "source": [
    "#print(ul.parent.parent)"
   ]
  },
  {
   "cell_type": "code",
   "execution_count": 51,
   "id": "e970d88a-15e7-4a4b-be44-61b4ccbe50b8",
   "metadata": {},
   "outputs": [],
   "source": [
    "# next_sibling and previous_siblings:\n",
    "ul = soup.find(id=\"li\")\n",
    "#print(ul.next_sibling.next_sibling)"
   ]
  },
  {
   "cell_type": "code",
   "execution_count": 38,
   "id": "baf08cb9-a64e-462e-be48-22d9c3b4be4d",
   "metadata": {},
   "outputs": [
    {
     "ename": "AttributeError",
     "evalue": "'NoneType' object has no attribute 'next_siblings'",
     "output_type": "error",
     "traceback": [
      "\u001b[1;31m---------------------------------------------------------------------------\u001b[0m",
      "\u001b[1;31mAttributeError\u001b[0m                            Traceback (most recent call last)",
      "Cell \u001b[1;32mIn[38], line 3\u001b[0m\n\u001b[0;32m      1\u001b[0m ul \u001b[38;5;241m=\u001b[39m soup\u001b[38;5;241m.\u001b[39mfind(\u001b[38;5;28mid\u001b[39m\u001b[38;5;241m=\u001b[39m\u001b[38;5;124m\"\u001b[39m\u001b[38;5;124mli\u001b[39m\u001b[38;5;124m\"\u001b[39m)\n\u001b[1;32m----> 3\u001b[0m \u001b[38;5;28;01mfor\u001b[39;00m j \u001b[38;5;129;01min\u001b[39;00m \u001b[43mul\u001b[49m\u001b[38;5;241;43m.\u001b[39;49m\u001b[43mnext_siblings\u001b[49m:\n\u001b[0;32m      4\u001b[0m     \u001b[38;5;28mprint\u001b[39m(j)\n",
      "\u001b[1;31mAttributeError\u001b[0m: 'NoneType' object has no attribute 'next_siblings'"
     ]
    }
   ],
   "source": [
    "ul = soup.find(id=\"li\")\n",
    "\n",
    "for j in ul.next_siblings:\n",
    "    print(j)"
   ]
  },
  {
   "cell_type": "code",
   "execution_count": 39,
   "id": "d8d085c2-8f59-43e2-a1fa-8d450712597c",
   "metadata": {},
   "outputs": [],
   "source": [
    "# WRITTING DATA IN CSV\n",
    "f = open(\"file.csv\", \"w\")\n",
    "f.write(\"Every,word,will,go,in,separate,column\\n\")\n",
    "f.write(\"This,will,go,in,next,row\")\n",
    "f.close()"
   ]
  },
  {
   "cell_type": "code",
   "execution_count": 40,
   "id": "41b1ae03-1fd0-4100-959f-ad6abc391b4a",
   "metadata": {},
   "outputs": [],
   "source": [
    "# In this we will open a file but we don’t have to close it, it will be handled automatically. File will also be automatically created\n",
    "with open(\"file.csv\", \"w\") as f:\n",
    "    f.write(\"Every,word,will,go,in,separate,column\\n\")\n",
    "    f.write(\"This,will,go,in,next,row\")"
   ]
  },
  {
   "cell_type": "code",
   "execution_count": 41,
   "id": "24f94c90-e64f-4b60-9398-ee9317678ed4",
   "metadata": {},
   "outputs": [
    {
     "ename": "IndexError",
     "evalue": "list index out of range",
     "output_type": "error",
     "traceback": [
      "\u001b[1;31m---------------------------------------------------------------------------\u001b[0m",
      "\u001b[1;31mIndexError\u001b[0m                                Traceback (most recent call last)",
      "Cell \u001b[1;32mIn[41], line 89\u001b[0m\n\u001b[0;32m     67\u001b[0m navbarSupportedContent \u001b[38;5;241m=\u001b[39m soup\u001b[38;5;241m.\u001b[39mfind(\u001b[38;5;28mid\u001b[39m\u001b[38;5;241m=\u001b[39m\u001b[38;5;124m'\u001b[39m\u001b[38;5;124mnavbarSupportedContent\u001b[39m\u001b[38;5;124m'\u001b[39m)\n\u001b[0;32m     69\u001b[0m \u001b[38;5;66;03m# .contents - A tag's children are available as a list\u001b[39;00m\n\u001b[0;32m     70\u001b[0m \u001b[38;5;66;03m# .children - A tag's children are available as a generator\u001b[39;00m\n\u001b[0;32m     71\u001b[0m \u001b[38;5;66;03m# for elem in navbarSupportedContent.contents:\u001b[39;00m\n\u001b[1;32m   (...)\u001b[0m\n\u001b[0;32m     87\u001b[0m \u001b[38;5;66;03m# elem = soup.select('.modal-footer')\u001b[39;00m\n\u001b[0;32m     88\u001b[0m \u001b[38;5;66;03m# print(elem)\u001b[39;00m\n\u001b[1;32m---> 89\u001b[0m elem \u001b[38;5;241m=\u001b[39m \u001b[43msoup\u001b[49m\u001b[38;5;241;43m.\u001b[39;49m\u001b[43mselect\u001b[49m\u001b[43m(\u001b[49m\u001b[38;5;124;43m'\u001b[39;49m\u001b[38;5;124;43m#loginModal\u001b[39;49m\u001b[38;5;124;43m'\u001b[39;49m\u001b[43m)\u001b[49m\u001b[43m[\u001b[49m\u001b[38;5;241;43m0\u001b[39;49m\u001b[43m]\u001b[49m \n\u001b[0;32m     90\u001b[0m \u001b[38;5;28mprint\u001b[39m(elem)\n",
      "\u001b[1;31mIndexError\u001b[0m: list index out of range"
     ]
    }
   ],
   "source": [
    "# If you want to scrape a website:\n",
    "# 1. Use the API\n",
    "# 2. HTML Web Scraping using some tool like bs4\n",
    "\n",
    "# Step 0: Install all the requirements\n",
    "# pip install requests\n",
    "# pip install bs4\n",
    "# pip install html5lib\n",
    "\n",
    "import requests\n",
    "from bs4 import BeautifulSoup\n",
    "url = \"https://codewithharry.com\"\n",
    "\n",
    "# Step 1: Get the HTML\n",
    "r = requests.get(url)\n",
    "htmlContent = r.content\n",
    "# print(htmlContent)\n",
    "\n",
    "# Step 2: Parse the HTML\n",
    "soup = BeautifulSoup(htmlContent, 'html.parser')\n",
    "# print(soup.prettify)\n",
    "\n",
    "# Step 3: HTML Tree traversal\n",
    "# \n",
    "# Commonly used types of objects:\n",
    "# print(type(title)) # 1. Tag\n",
    "# print(type(title.string)) # 2. NavigableString\n",
    "# print(type(soup)) # 3. BeautifulSoup\n",
    "# # 4. Comment\n",
    "# markup = \"<p><!-- this is a comment --></p>\"\n",
    "# soup2 = BeautifulSoup(markup)\n",
    "# print(type(soup2.p.string))\n",
    "\n",
    "\n",
    "# Get the title of the HTML page\n",
    "title = soup.title\n",
    "\n",
    "# Get all the paragraphs from the page\n",
    "paras = soup.find_all('p')\n",
    "# print(paras)\n",
    "\n",
    "# print(anchors)\n",
    "\n",
    "# Get first element in the HTML page\n",
    "# print(soup.find('p') ) \n",
    "\n",
    "# Get classes of any element in the HTML page\n",
    "# print(soup.find('p')['class'])\n",
    "\n",
    "# find all the elements with class lead\n",
    "# print(soup.find_all(\"p\", class_=\"lead\"))\n",
    "\n",
    "# Get the text from the tags/soup\n",
    "# print(soup.find('p').get_text())\n",
    "# print(soup.get_text())\n",
    "\n",
    "# Get all the anchor tags from the page\n",
    "anchors = soup.find_all('a')\n",
    "all_links = set()\n",
    "# Get all the links on the page:\n",
    "for link in anchors:\n",
    "    if(link.get('href') != '#'): \n",
    "        linkText = \"https://codewithharry.com\" +link.get('href')\n",
    "        all_links.add(link)\n",
    "        # print(linkText)\n",
    "\n",
    "navbarSupportedContent = soup.find(id='navbarSupportedContent')\n",
    "\n",
    "# .contents - A tag's children are available as a list\n",
    "# .children - A tag's children are available as a generator\n",
    "# for elem in navbarSupportedContent.contents:\n",
    "#     print(elem)\n",
    " \n",
    "# for item in navbarSupportedContent.strings:\n",
    "#     print(item)\n",
    "\n",
    "# for item in navbarSupportedContent.stripped_strings:\n",
    "#     print(item)\n",
    "\n",
    "# print(navbarSupportedContent.parent)\n",
    "# for item in navbarSupportedContent.parents: \n",
    "#     print(item.name)\n",
    "\n",
    "# print(navbarSupportedContent.next_sibling.next_sibling)\n",
    "# print(navbarSupportedContent.previous_sibling.previous_sibling)\n",
    "\n",
    "# elem = soup.select('.modal-footer')\n",
    "# print(elem)\n",
    "elem = soup.select('#loginModal')[0] \n",
    "print(elem)"
   ]
  },
  {
   "cell_type": "code",
   "execution_count": null,
   "id": "482e8c5e-7c71-4a27-9a42-b80bf8345d72",
   "metadata": {},
   "outputs": [],
   "source": []
  }
 ],
 "metadata": {
  "kernelspec": {
   "display_name": "Python 3 (ipykernel)",
   "language": "python",
   "name": "python3"
  },
  "language_info": {
   "codemirror_mode": {
    "name": "ipython",
    "version": 3
   },
   "file_extension": ".py",
   "mimetype": "text/x-python",
   "name": "python",
   "nbconvert_exporter": "python",
   "pygments_lexer": "ipython3",
   "version": "3.8.15"
  }
 },
 "nbformat": 4,
 "nbformat_minor": 5
}
