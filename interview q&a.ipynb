{
 "cells": [
  {
   "cell_type": "code",
   "execution_count": 4,
   "id": "c33026af-9fd6-4af3-a676-764889bc1b80",
   "metadata": {},
   "outputs": [],
   "source": [
    "# Generate infinite fibonaci series by using generator\n",
    "#Generators are useful when we want to produce a large sequence of values, but we don't want to store all of them in memory at once.\n",
    "#yield keyword is used to produce a value from the generator.\n",
    "def fibonacci():\n",
    "    a,b = 0,1\n",
    "    while True:\n",
    "        yield a\n",
    "        a,b = b,a+b    "
   ]
  },
  {
   "cell_type": "code",
   "execution_count": 5,
   "id": "be292407-5af3-4f87-b4e3-3c7245161527",
   "metadata": {},
   "outputs": [],
   "source": [
    "# this goes to infinite loop\n",
    "# f1 = fibonacci()\n",
    "# for i in f1:\n",
    "#     print(i)"
   ]
  },
  {
   "cell_type": "code",
   "execution_count": 7,
   "id": "5bcfa491-57e5-45bd-9e40-28440ccfb379",
   "metadata": {},
   "outputs": [
    {
     "name": "stdout",
     "output_type": "stream",
     "text": [
      "0\n"
     ]
    }
   ],
   "source": [
    "f1 = fibonacci()\n",
    "print(next(f1))"
   ]
  },
  {
   "cell_type": "code",
   "execution_count": 8,
   "id": "8481bad4-455c-4ccb-9e33-857690761952",
   "metadata": {},
   "outputs": [
    {
     "name": "stdout",
     "output_type": "stream",
     "text": [
      "1\n"
     ]
    }
   ],
   "source": [
    "print(next(f1))"
   ]
  },
  {
   "cell_type": "code",
   "execution_count": 9,
   "id": "fb900238-50f7-4c40-b447-e49abf5b8880",
   "metadata": {},
   "outputs": [
    {
     "name": "stdout",
     "output_type": "stream",
     "text": [
      "1\n"
     ]
    }
   ],
   "source": [
    "print(next(f1))"
   ]
  },
  {
   "cell_type": "code",
   "execution_count": 10,
   "id": "bb6785a5-2a86-4135-9301-c1f85d18711d",
   "metadata": {},
   "outputs": [
    {
     "name": "stdout",
     "output_type": "stream",
     "text": [
      "2\n"
     ]
    }
   ],
   "source": [
    "print(next(f1))"
   ]
  },
  {
   "cell_type": "code",
   "execution_count": 11,
   "id": "17037155-202e-4855-a4be-6cb81de22f8e",
   "metadata": {},
   "outputs": [
    {
     "name": "stdout",
     "output_type": "stream",
     "text": [
      "[2, 8, 9, 10, 17, 18, 28, 41, 71]\n"
     ]
    }
   ],
   "source": [
    "# sort a list without using sort keyword\n",
    "list1 = [41,2,28,71,9,17,8,18,10]\n",
    "n = len(list1)\n",
    "for i in range(n):\n",
    "    for j in range(i+1,n):\n",
    "        if list1[i]>list1[j]:\n",
    "            list1[i],list1[j] = list1[j], list1[i]\n",
    "print(list1)"
   ]
  },
  {
   "cell_type": "code",
   "execution_count": 18,
   "id": "594d7d18-c31b-445e-9823-aa5e14827f88",
   "metadata": {},
   "outputs": [
    {
     "name": "stdout",
     "output_type": "stream",
     "text": [
      "[3, 8, 18, 88]\n"
     ]
    }
   ],
   "source": [
    "# sort using sort() keyword\n",
    "l1 = [3,8,18,88]\n",
    "list1.sort()\n",
    "print(l1)"
   ]
  },
  {
   "cell_type": "code",
   "execution_count": 19,
   "id": "4053f677-cd0b-45a2-b148-7603bf14d7cd",
   "metadata": {},
   "outputs": [
    {
     "name": "stdout",
     "output_type": "stream",
     "text": [
      "4895\n"
     ]
    }
   ],
   "source": [
    "def fibonacci_numbers(nums):\n",
    "    x, y = 0, 1\n",
    "    for _ in range(nums):\n",
    "        x, y = y, x+y\n",
    "        yield x\n",
    "\n",
    "def square(nums):\n",
    "    for num in nums:\n",
    "        yield num**2\n",
    "        \n",
    "print(sum(square(fibonacci_numbers(10))))"
   ]
  },
  {
   "cell_type": "code",
   "execution_count": 20,
   "id": "9b1e0be9-018f-4e06-b577-a5b6c16ee612",
   "metadata": {},
   "outputs": [
    {
     "name": "stdout",
     "output_type": "stream",
     "text": [
      "yes Palindrome\n"
     ]
    }
   ],
   "source": [
    "# whether string is palindrone orn't\n",
    "s = \"nitin\"\n",
    "if(s==s[::-1]):\n",
    "    print(\"yes Palindrome\")\n",
    "else:\n",
    "    print(\"No\")"
   ]
  },
  {
   "cell_type": "code",
   "execution_count": 21,
   "id": "70b83dd6-ef8c-41ff-ab23-7d4672d526d5",
   "metadata": {},
   "outputs": [
    {
     "name": "stdin",
     "output_type": "stream",
     "text": [
      "enter input 121\n"
     ]
    },
    {
     "name": "stdout",
     "output_type": "stream",
     "text": [
      "yes Palindrome\n"
     ]
    }
   ],
   "source": [
    "s = input(\"enter input\")\n",
    "n = len(s)\n",
    "x=0\n",
    "for i in range(n):\n",
    "    if(s[i]!=s[n-i-1]):\n",
    "        x=1\n",
    "        break\n",
    "        \n",
    "if(x==0):\n",
    "    print(\"yes Palindrome\")\n",
    "else:\n",
    "    print(\"No\")"
   ]
  },
  {
   "cell_type": "code",
   "execution_count": 22,
   "id": "1db1fa80-69dc-4bf0-83b7-1f5efd9e022a",
   "metadata": {},
   "outputs": [
    {
     "name": "stdout",
     "output_type": "stream",
     "text": [
      "{75: 'Banana', 115: 'Grapes', 575: 'Apple', 785: 'Mango'}\n"
     ]
    }
   ],
   "source": [
    "#sort a dictionary\n",
    "dict1 = {575: \"Apple\", 785:\"Mango\", 115:\"Grapes\", 75:\"Banana\"}\n",
    "d = sorted(dict1.keys())\n",
    "dict2 = {}\n",
    "for i in d:\n",
    "    dict2[i] = dict1[i]\n",
    "    \n",
    "print(dict2)"
   ]
  },
  {
   "cell_type": "code",
   "execution_count": 33,
   "id": "fe34fe13-ae50-4017-8672-b2e44cb1254f",
   "metadata": {},
   "outputs": [
    {
     "name": "stdout",
     "output_type": "stream",
     "text": [
      "{75: 'Banana', 115: 'Grapes', 575: 'Apple', 785: 'Mango'}\n"
     ]
    }
   ],
   "source": [
    "#sort a dictionary by using dictionary comprehension\n",
    "dict1 = {575: \"Apple\", 785:\"Mango\", 115:\"Grapes\", 75:\"Banana\"}\n",
    "dict2 = {key:value for key, value in sorted(dict1.items(), key=lambda x: x[0])}\n",
    "print(dict2)"
   ]
  },
  {
   "cell_type": "code",
   "execution_count": 34,
   "id": "18ce6cc2-233f-484b-a2cf-1c44e937c966",
   "metadata": {},
   "outputs": [
    {
     "name": "stdout",
     "output_type": "stream",
     "text": [
      "8 2\n",
      "7 3\n"
     ]
    }
   ],
   "source": [
    "#print all the pair with given sum\n",
    "list1 = [8,7,2,5,3,1]\n",
    "n = len(list1)\n",
    "k =10\n",
    "for i in range(n):\n",
    "    for j in range(i+1,n):\n",
    "        if(list1[i] + list1[j]== k):\n",
    "            print(list1[i], list1[j])"
   ]
  },
  {
   "cell_type": "code",
   "execution_count": 37,
   "id": "e5ca58b7-bd8e-40f2-a4f2-78e3fb294eef",
   "metadata": {},
   "outputs": [
    {
     "name": "stdin",
     "output_type": "stream",
     "text": [
      "How many terms? 10\n"
     ]
    },
    {
     "name": "stdout",
     "output_type": "stream",
     "text": [
      "0\n",
      "1\n",
      "1\n",
      "2\n",
      "3\n",
      "5\n",
      "8\n",
      "13\n",
      "21\n",
      "34\n"
     ]
    }
   ],
   "source": [
    "# create fibonacci series by using recurcion\n",
    "def recur_fibo(n):\n",
    "    if n<=1:\n",
    "        return n\n",
    "    else:\n",
    "        return (recur_fibo(n-1)+ recur_fibo(n-2))\n",
    "nterms = int(input(\"How many terms?\"))\n",
    "if(nterms<=0):\n",
    "    print(\"Please enter positive integer\")\n",
    "else:\n",
    "    for i in range (nterms):\n",
    "        print(recur_fibo(i))"
   ]
  },
  {
   "cell_type": "code",
   "execution_count": 39,
   "id": "73fc1f17-1f87-4f46-9e1e-7ffe0dab97c5",
   "metadata": {},
   "outputs": [
    {
     "name": "stdout",
     "output_type": "stream",
     "text": [
      "blue is sky the\n"
     ]
    }
   ],
   "source": [
    "# string manipulation\n",
    "s = \"the sky is blue\"\n",
    "l = s.split()\n",
    "l = l[::-1]\n",
    "l = ' '.join(l)\n",
    "print(l)"
   ]
  },
  {
   "cell_type": "code",
   "execution_count": 45,
   "id": "843d18d2-c0fc-44ad-a80f-2af146341c25",
   "metadata": {},
   "outputs": [
    {
     "name": "stdout",
     "output_type": "stream",
     "text": [
      " apples are  found  only  red and green\n"
     ]
    }
   ],
   "source": [
    "str1 = \" /*apples are & found % only @ red and green\"\n",
    "s = ''\n",
    "for i in str1:\n",
    "    if((i>='A' and i<='Z') | (i>='a' and i<='z') | (i ==\" \")):\n",
    "        s = s+i\n",
    "print(s)"
   ]
  },
  {
   "cell_type": "code",
   "execution_count": 46,
   "id": "c366d0c5-57af-4dde-adab-022d85cd6d52",
   "metadata": {},
   "outputs": [
    {
     "name": "stdout",
     "output_type": "stream",
     "text": [
      "i\n"
     ]
    }
   ],
   "source": [
    "# find the max repeated character in a string. (time complexity should be less than 0 (n2))\n",
    "s = \"itiniyninhhn\"\n",
    "ch = {}\n",
    "for i in s:\n",
    "    if i in ch:\n",
    "        ch[i] +=1\n",
    "    else:\n",
    "        ch[i] = 1\n",
    "max_char =max(ch, key =ch.get)\n",
    "print(max_char)"
   ]
  },
  {
   "cell_type": "code",
   "execution_count": 47,
   "id": "4daf30a7-296c-40a3-9957-6ec9ee3be7ba",
   "metadata": {},
   "outputs": [
    {
     "name": "stdout",
     "output_type": "stream",
     "text": [
      "{'i': 4, 't': 1, 'n': 4, 'y': 1, 'h': 2}\n"
     ]
    }
   ],
   "source": [
    "print(ch)"
   ]
  },
  {
   "cell_type": "code",
   "execution_count": 49,
   "id": "050f6ee7-3116-4f71-b27f-8bcadb58204c",
   "metadata": {},
   "outputs": [
    {
     "name": "stdout",
     "output_type": "stream",
     "text": [
      "maximum is 370\n",
      "minimum is 2\n"
     ]
    }
   ],
   "source": [
    "# find max & min without using pre-defined functions\n",
    "l = [9,11,370,55,40,2]\n",
    "maximum = l[0]\n",
    "minimum = l[0]\n",
    "for i in l:\n",
    "    if i> maximum:\n",
    "        maximum = i\n",
    "    if i< minimum:\n",
    "        minimum = i\n",
    "        \n",
    "print (\"maximum is {}\".format(maximum))\n",
    "print (\"minimum is {}\".format(minimum))"
   ]
  },
  {
   "cell_type": "code",
   "execution_count": 52,
   "id": "55a1bed1-e343-44a4-9171-38e3fd26a0b5",
   "metadata": {},
   "outputs": [
    {
     "ename": "Exception",
     "evalue": "Exception: 1 is found",
     "output_type": "error",
     "traceback": [
      "\u001b[1;31m---------------------------------------------------------------------------\u001b[0m",
      "\u001b[1;31mException\u001b[0m                                 Traceback (most recent call last)",
      "\u001b[1;32m~\\AppData\\Local\\Temp\\ipykernel_22644\\2673734528.py\u001b[0m in \u001b[0;36m<module>\u001b[1;34m\u001b[0m\n\u001b[0;32m      4\u001b[0m \u001b[1;32mfor\u001b[0m \u001b[0mi\u001b[0m \u001b[1;32min\u001b[0m \u001b[0ml\u001b[0m\u001b[1;33m:\u001b[0m\u001b[1;33m\u001b[0m\u001b[1;33m\u001b[0m\u001b[0m\n\u001b[0;32m      5\u001b[0m     \u001b[1;32mif\u001b[0m \u001b[0mi\u001b[0m \u001b[1;33m==\u001b[0m \u001b[1;36m1\u001b[0m\u001b[1;33m:\u001b[0m\u001b[1;33m\u001b[0m\u001b[1;33m\u001b[0m\u001b[0m\n\u001b[1;32m----> 6\u001b[1;33m         \u001b[1;32mraise\u001b[0m \u001b[0mException\u001b[0m\u001b[1;33m(\u001b[0m\u001b[1;34m\"Exception: 1 is found\"\u001b[0m\u001b[1;33m)\u001b[0m\u001b[1;33m\u001b[0m\u001b[1;33m\u001b[0m\u001b[0m\n\u001b[0m\u001b[0;32m      7\u001b[0m     \u001b[1;32melse\u001b[0m\u001b[1;33m:\u001b[0m\u001b[1;33m\u001b[0m\u001b[1;33m\u001b[0m\u001b[0m\n\u001b[0;32m      8\u001b[0m         \u001b[0msum\u001b[0m \u001b[1;33m+=\u001b[0m\u001b[0mi\u001b[0m\u001b[1;33m\u001b[0m\u001b[1;33m\u001b[0m\u001b[0m\n",
      "\u001b[1;31mException\u001b[0m: Exception: 1 is found"
     ]
    }
   ],
   "source": [
    "# how to use raise in exception if element is 1 in list\n",
    "l = [1,2,3,4]\n",
    "sum = 0\n",
    "for i in l:\n",
    "    if i == 1:\n",
    "        raise Exception(\"Exception: 1 is found\")\n",
    "    else:\n",
    "        sum +=i\n",
    "print(sum)"
   ]
  },
  {
   "cell_type": "raw",
   "id": "b6517002-65c5-4672-aa74-ad11e5737d90",
   "metadata": {},
   "source": [
    "what is difference b/w LIST , TUPPLE & Array:\n",
    "   # LIST: Container that can store value of different types, list = ['a','b','c',1,2,3]\n",
    "          # List are mutable i.e can change, append, delete values\n",
    "          # ordered collection of items\n",
    "          # consume more memory\n",
    "          # can store more than 1 datatype\n",
    "          \n",
    "    # Tuple: Immutable , tp1 = (\"orange\",\"apple\",1,2)\n",
    "           # faster than list\n",
    "            #ordered collection of items\n",
    "           # can store more than 1 datatype\n",
    "           #contains less memory\n",
    "          \n",
    "    # Array: contains same type value only ; array1 = [0, 0, 0, 1, 2] , array2 = [\"cap\", \"bat\", \"rat\"]\n",
    "            # directly handle arthematic operations\n",
    "            #ordered collection of items\n",
    "            # shorter sequence of data items storing \n",
    "            "
   ]
  },
  {
   "cell_type": "code",
   "execution_count": 55,
   "id": "3691d5b4-a797-43c6-bc6f-74d6258d1650",
   "metadata": {},
   "outputs": [
    {
     "name": "stdout",
     "output_type": "stream",
     "text": [
      "10\n",
      "11\n"
     ]
    }
   ],
   "source": [
    "# Lambda Function : can take any number of argument but can have only one expressions. Syntax is Lambda argument: expression\n",
    "\n",
    "x = lambda a: a+5\n",
    "print(x(5))\n",
    "        \n",
    "x = lambda a,b: a+b\n",
    "print(x(5,6))"
   ]
  },
  {
   "cell_type": "code",
   "execution_count": 57,
   "id": "8ebd8bee-47bc-4715-bd99-d107ae679e87",
   "metadata": {},
   "outputs": [
    {
     "name": "stdout",
     "output_type": "stream",
     "text": [
      "['geeks', 'for', 'geeks', [6, 0, 4, 1]]\n",
      "['geeks', 'for', 6, 0, 4, 1]\n",
      "['geeks', 'for', 6, 0, 4, 1, 'g', 'e', 'e', 'k', 's']\n"
     ]
    }
   ],
   "source": [
    "# Explain list function append() & extend()\n",
    "# append() function inserts a single element into an existing list. at the end of old list\n",
    "\n",
    "#NOTE: A list is an object. If you append another list onto a list, the parameter list will be a single object at the end of the list. \n",
    "my_list = ['geeks', 'for', 'geeks']\n",
    "another_list = [6, 0, 4, 1]\n",
    "my_list.append(another_list)\n",
    "print (my_list)\n",
    "\n",
    "\n",
    "#Extend() : Iterates over its argument and adding each element to the list and extending the list. The length of the list increases by a number of elements in its argument.\n",
    "my_list = ['geeks', 'for']\n",
    "another_list = [6, 0, 4, 1]\n",
    "my_list.extend(another_list)\n",
    "print (my_list)\n",
    "\n",
    "#NOTE: A string is iterable, so if you extend a list with a string, you’ll append each character as you iterate over the string. \n",
    "my_list = ['geeks', 'for', 6, 0, 4, 1]\n",
    "my_list.extend('geeks')\n",
    "print (my_list)"
   ]
  },
  {
   "cell_type": "code",
   "execution_count": 63,
   "id": "ae1cb681-667f-45c0-89d4-947ecf23d7c6",
   "metadata": {},
   "outputs": [
    {
     "name": "stdout",
     "output_type": "stream",
     "text": [
      "Yeah ! Your answer is : 0\n",
      "This is always executed\n"
     ]
    }
   ],
   "source": [
    "# How exception is handelled in python\n",
    "\n",
    "#Try: This block will test the exceptional error to occur.\n",
    "#Except: Here you can handle the error\n",
    "#Else: if no exception then this block will be executed.\n",
    "#Finally: This block always get executed.\n",
    "    \n",
    "#try:\n",
    "#    #some code\n",
    "#except: \n",
    "    # handelling exception\n",
    "#else: \n",
    "    #some code if no exception\n",
    "#Finally:\n",
    "    #always executed.\n",
    "    \n",
    "# Python code to illustrate\n",
    "# working of try()\n",
    "\n",
    "def divide(x, y):\n",
    "    try:\n",
    "        # Floor Division : Gives only Fractional\n",
    "        # Part as Answer\n",
    "        result = x // y\n",
    "    except ZeroDivisionError:\n",
    "        print(\"Sorry ! You are dividing by zero \")\n",
    "    else:\n",
    "        print(\"Yeah ! Your answer is :\", result)\n",
    "    finally: \n",
    "        # this block is always executed  \n",
    "        # regardless of exception generation. \n",
    "        print('This is always executed')  \n",
    "divide(3,6)"
   ]
  },
  {
   "cell_type": "raw",
   "id": "3bd314c8-be43-4c2d-96cd-fe980d5db6a6",
   "metadata": {},
   "source": [
    "What do you mean by Decorator ?\n",
    "Powerful tool that allows to modify behaviour of functions & methods without modyfying source code.\n",
    "Decorator is a function that takes another function as an argument & returns a new function that modify the behaviour of original function.\n",
    "\n",
    "@decorator_function\n",
    "def my_function():\n",
    " pass\n"
   ]
  },
  {
   "cell_type": "code",
   "execution_count": 79,
   "id": "828f5411-5ee6-4e9d-9222-5de9b1958730",
   "metadata": {},
   "outputs": [
    {
     "name": "stdout",
     "output_type": "stream",
     "text": [
      "Function: daily_backup\n",
      "Run on: 2023-03-29 16:11:14\n",
      "------------------------------\n",
      "Daily backup job has finished.\n"
     ]
    }
   ],
   "source": [
    "from datetime import datetime\n",
    "\n",
    "\n",
    "def log_datetime(func):\n",
    "    '''Log the date and time of a function'''\n",
    "\n",
    "    def wrapper():\n",
    "        print(f'Function: {func.__name__}\\nRun on: {datetime.today().strftime(\"%Y-%m-%d %H:%M:%S\")}')\n",
    "        print(f'{\"-\"*30}')\n",
    "        func()\n",
    "    return wrapper\n",
    "\n",
    "\n",
    "@log_datetime\n",
    "def daily_backup():\n",
    "\n",
    "    print('Daily backup job has finished.')   \n",
    "\n",
    "     \n",
    "daily_backup()"
   ]
  },
  {
   "cell_type": "code",
   "execution_count": 82,
   "id": "03b87a7b-80df-477a-8618-9f2100e69201",
   "metadata": {},
   "outputs": [
    {
     "name": "stdout",
     "output_type": "stream",
     "text": [
      "my_func\n",
      "Example docstring for function\n"
     ]
    }
   ],
   "source": [
    "from functools import wraps\n",
    "\n",
    "def my_decorator_func(func):\n",
    "\n",
    "    @wraps(func)\n",
    "    def wrapper_func(*args, **kwargs):\n",
    "        func(*args, **kwargs)\n",
    "    return wrapper_func\n",
    "\n",
    "@my_decorator_func\n",
    "def my_func(my_args):\n",
    "    '''Example docstring for function'''\n",
    "\n",
    "    pass\n",
    "\n",
    "print(my_func.__name__)\n",
    "print(my_func.__doc__)"
   ]
  },
  {
   "cell_type": "code",
   "execution_count": 83,
   "id": "55f9f2b8-a424-4cc4-86b9-950c2ef3232f",
   "metadata": {},
   "outputs": [
    {
     "name": "stdout",
     "output_type": "stream",
     "text": [
      "Function: make_list1\n",
      "Method: Range\n",
      "Memory usage:\t\t 0.000223 MB \n",
      "Peak memory usage:\t 3.693024 MB \n",
      "Time elapsed is seconds: 0.053831\n",
      "----------------------------------------\n",
      "None\n",
      "Function: make_list2\n",
      "Method: List comprehension\n",
      "Memory usage:\t\t 0.148047 MB \n",
      "Peak memory usage:\t 3.765419 MB \n",
      "Time elapsed is seconds: 0.031820\n",
      "----------------------------------------\n",
      "None\n",
      "Function: make_list3\n",
      "Method: Append\n",
      "Memory usage:\t\t 0.000000 MB \n",
      "Peak memory usage:\t 3.617236 MB \n",
      "Time elapsed is seconds: 0.034680\n",
      "----------------------------------------\n",
      "None\n",
      "Function: make_list4\n",
      "Method: Concatenation\n",
      "Memory usage:\t\t 0.147961 MB \n",
      "Peak memory usage:\t 4.540797 MB \n",
      "Time elapsed is seconds: 14.637128\n",
      "----------------------------------------\n",
      "None\n"
     ]
    }
   ],
   "source": [
    "from functools import wraps\n",
    "import tracemalloc\n",
    "from time import perf_counter \n",
    "\n",
    "\n",
    "def measure_performance(func):\n",
    "    '''Measure performance of a function'''\n",
    "\n",
    "    @wraps(func)\n",
    "    def wrapper(*args, **kwargs):\n",
    "        tracemalloc.start()\n",
    "        start_time = perf_counter()\n",
    "        func(*args, **kwargs)\n",
    "        current, peak = tracemalloc.get_traced_memory()\n",
    "        finish_time = perf_counter()\n",
    "        print(f'Function: {func.__name__}')\n",
    "        print(f'Method: {func.__doc__}')\n",
    "        print(f'Memory usage:\\t\\t {current / 10**6:.6f} MB \\n'\n",
    "              f'Peak memory usage:\\t {peak / 10**6:.6f} MB ')\n",
    "        print(f'Time elapsed is seconds: {finish_time - start_time:.6f}')\n",
    "        print(f'{\"-\"*40}')\n",
    "        tracemalloc.stop()\n",
    "    return wrapper\n",
    "\n",
    "\n",
    "@measure_performance\n",
    "def make_list1():\n",
    "    '''Range'''\n",
    "\n",
    "    my_list = list(range(100000))\n",
    "\n",
    "\n",
    "@measure_performance\n",
    "def make_list2():\n",
    "    '''List comprehension'''\n",
    "\n",
    "    my_list = [l for l in range(100000)]\n",
    "\n",
    "\n",
    "@measure_performance\n",
    "def make_list3():\n",
    "    '''Append'''\n",
    "\n",
    "    my_list = []\n",
    "    for item in range(100000):\n",
    "        my_list.append(item)\n",
    "\n",
    "\n",
    "@measure_performance\n",
    "def make_list4():\n",
    "    '''Concatenation'''\n",
    "\n",
    "    my_list = []\n",
    "    for item in range(100000):\n",
    "        my_list = my_list + [item]\n",
    "\n",
    "\n",
    "print(make_list1())\n",
    "print(make_list2())\n",
    "print(make_list3())\n",
    "print(make_list4())"
   ]
  },
  {
   "cell_type": "code",
   "execution_count": 85,
   "id": "d7968d95-5ebe-4fe6-a0a0-510aac195800",
   "metadata": {},
   "outputs": [],
   "source": [
    "# use decorator with classes\n",
    "import requests\n",
    "\n",
    "\n",
    "class LimitQuery:\n",
    "\n",
    "    def __init__(self, func):\n",
    "        self.func = func\n",
    "        self.count = 0\n",
    "\n",
    "    def __call__(self, *args, **kwargs):\n",
    "        self.limit = args[0]\n",
    "        if self.count < self.limit:\n",
    "            self.count += 1\n",
    "            return self.func(*args, **kwargs)\n",
    "        else:\n",
    "            print(f'No queries left. All {self.count} queries used.')\n",
    "            return\n",
    "\n",
    "@LimitQuery\n",
    "def get_coin_price(limit):\n",
    "    '''View the Bitcoin Price Index (BPI)'''\n",
    "    \n",
    "    url = requests.get('https://api.coindesk.com/v1/bpi/currentprice.json')\n",
    "\n",
    "    if url.status_code == 200:\n",
    "        text = url.json()\n",
    "        return f\"${float(text['bpi']['USD']['rate_float']):.2f}\"\n",
    "\n",
    "\n",
    "# print(get_coin_price(5))\n",
    "# print(get_coin_price(5))\n",
    "# print(get_coin_price(5))\n",
    "# print(get_coin_price(5))\n",
    "# print(get_coin_price(5))\n",
    "# print(get_coin_price(5))"
   ]
  },
  {
   "cell_type": "code",
   "execution_count": null,
   "id": "1d4c20c7-0501-43b5-940c-a7b4d6926e63",
   "metadata": {},
   "outputs": [],
   "source": []
  }
 ],
 "metadata": {
  "kernelspec": {
   "display_name": "Python 3 (ipykernel)",
   "language": "python",
   "name": "python3"
  },
  "language_info": {
   "codemirror_mode": {
    "name": "ipython",
    "version": 3
   },
   "file_extension": ".py",
   "mimetype": "text/x-python",
   "name": "python",
   "nbconvert_exporter": "python",
   "pygments_lexer": "ipython3",
   "version": "3.8.15"
  }
 },
 "nbformat": 4,
 "nbformat_minor": 5
}
