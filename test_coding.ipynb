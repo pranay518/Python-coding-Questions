{
 "cells": [
  {
   "cell_type": "code",
   "execution_count": 1,
   "id": "fd2a6fa8-4f96-4967-a9b4-3c14cb1f0c7f",
   "metadata": {},
   "outputs": [
    {
     "name": "stdout",
     "output_type": "stream",
     "text": [
      "Hello, Python!\n"
     ]
    }
   ],
   "source": [
    "print(\"Hello, Python!\")"
   ]
  },
  {
   "cell_type": "code",
   "execution_count": 8,
   "id": "c2db8031-018a-4f54-98f5-7d3439dbcd33",
   "metadata": {},
   "outputs": [
    {
     "name": "stdin",
     "output_type": "stream",
     "text": [
      "enter first number 2.5\n",
      "enter second number 2\n"
     ]
    },
    {
     "name": "stdout",
     "output_type": "stream",
     "text": [
      "sum of 2 number 2.5 and 2 is 4.5\n",
      "substraction of 2 number 2.5 and 2 is 0.5\n",
      "multiplication of 2 number 2.5 and 2 is 5.0\n",
      "Division of 2 number 2.5 and 2 is 1.25\n"
     ]
    }
   ],
   "source": [
    "# Arthematic operations\n",
    "num1 = input(\"enter first number\")\n",
    "num2 = input(\"enter second number\")\n",
    "sum = float(num1) + float(num2)\n",
    "print(\"sum of 2 number {} and {} is {}\" .format(num1,num2,sum))\n",
    "if(num1>num2):\n",
    "    sub = float(num1) - float(num2)\n",
    "elif(num2>num1):\n",
    "    sub = float(num2)- float(num1)\n",
    "print(\"substraction of 2 number {} and {} is {}\" .format(num1,num2,sub))\n",
    "mult = float(num1) * float(num2)\n",
    "if(num1>num2):\n",
    "    div = float(num1) / float(num2)\n",
    "elif(num2>num1):\n",
    "    div = float(num2)/ float(num1)\n",
    "print(\"multiplication of 2 number {} and {} is {}\" .format(num1,num2,mult))\n",
    "print(\"Division of 2 number {} and {} is {}\" .format(num1,num2,div))"
   ]
  },
  {
   "cell_type": "code",
   "execution_count": 22,
   "id": "84398bf8-8c69-40dd-ad25-11af5b7b2be3",
   "metadata": {},
   "outputs": [
    {
     "name": "stdin",
     "output_type": "stream",
     "text": [
      "enter first number 25.4\n"
     ]
    },
    {
     "name": "stdout",
     "output_type": "stream",
     "text": [
      "input number 25.4 is not integer\n"
     ]
    }
   ],
   "source": [
    "# Odd or Even number\n",
    "num1 = input(\"enter first number\")\n",
    "try:\n",
    "    if(int(num1)%2 == 0):\n",
    "        print(\"{}  is even number\" .format(num1))\n",
    "    else:\n",
    "        print(\"{} is odd number\" .format(num1))\n",
    "\n",
    "except:\n",
    "    print(\"input number {} is not integer\" .format(num1))"
   ]
  },
  {
   "cell_type": "code",
   "execution_count": 20,
   "id": "fec998f9-7542-4ac4-8936-e3d646713a62",
   "metadata": {},
   "outputs": [
    {
     "name": "stdin",
     "output_type": "stream",
     "text": [
      "Please enter number 2\n"
     ]
    },
    {
     "name": "stdout",
     "output_type": "stream",
     "text": [
      "The number 2 is a prime number\n"
     ]
    }
   ],
   "source": [
    "#Prime Number\n",
    "num = int(input(\"Please enter number\"))\n",
    "def prime(num):\n",
    "    if num > 1:\n",
    "        for i in range(2, int(num/2)+1):\n",
    "            if(num%i) == 0:\n",
    "                print(\"The number\" , num , \"is not a prime number\")\n",
    "                break\n",
    "        else:\n",
    "            print(\"The number\" , num , \"is a prime number\")\n",
    "    else:\n",
    "        print(\"The number\" , num , \"is not a prime number\")\n",
    "        \n",
    "prime(num)    "
   ]
  },
  {
   "cell_type": "code",
   "execution_count": 23,
   "id": "60f5ae0d-849c-4902-9eb0-7ea3fe2fc5b4",
   "metadata": {},
   "outputs": [
    {
     "name": "stdin",
     "output_type": "stream",
     "text": [
      "Enter 1st number 12\n",
      "Enter 2nd number 20\n"
     ]
    },
    {
     "name": "stdout",
     "output_type": "stream",
     "text": [
      "second number is greatest\n"
     ]
    }
   ],
   "source": [
    "num1 = input(\"Enter 1st number\")\n",
    "num2 = input(\"Enter 2nd number\")\n",
    "\n",
    "if(num1>num2):\n",
    "    print(\"First number is greatest\")\n",
    "else:\n",
    "    print(\"second number is greatest\")\n"
   ]
  },
  {
   "cell_type": "code",
   "execution_count": 26,
   "id": "3aed38c0-7875-48d9-9e7b-9c0a815e6325",
   "metadata": {},
   "outputs": [
    {
     "name": "stdin",
     "output_type": "stream",
     "text": [
      "enter 1st number 5\n"
     ]
    },
    {
     "data": {
      "text/plain": [
       "120"
      ]
     },
     "execution_count": 26,
     "metadata": {},
     "output_type": "execute_result"
    }
   ],
   "source": [
    "#factorial without if else\n",
    "import math\n",
    "def fact(num):\n",
    "    return (math.factorial(num))\n",
    "\n",
    "num = int(input(\"enter 1st number\"))\n",
    "fact(num)"
   ]
  },
  {
   "cell_type": "code",
   "execution_count": null,
   "id": "a4b33c57-9229-4a9a-b07e-ab69c8cf9a02",
   "metadata": {},
   "outputs": [],
   "source": []
  }
 ],
 "metadata": {
  "kernelspec": {
   "display_name": "Python 3 (ipykernel)",
   "language": "python",
   "name": "python3"
  },
  "language_info": {
   "codemirror_mode": {
    "name": "ipython",
    "version": 3
   },
   "file_extension": ".py",
   "mimetype": "text/x-python",
   "name": "python",
   "nbconvert_exporter": "python",
   "pygments_lexer": "ipython3",
   "version": "3.8.15"
  }
 },
 "nbformat": 4,
 "nbformat_minor": 5
}
